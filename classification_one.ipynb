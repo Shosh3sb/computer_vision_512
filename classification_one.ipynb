{
  "cells": [
    {
      "cell_type": "markdown",
      "metadata": {
        "id": "view-in-github",
        "colab_type": "text"
      },
      "source": [
        "<a href=\"https://colab.research.google.com/github/Shosh3sb/computer_vision_512/blob/main/classification_one.ipynb\" target=\"_parent\"><img src=\"https://colab.research.google.com/assets/colab-badge.svg\" alt=\"Open In Colab\"/></a>"
      ]
    },
    {
      "cell_type": "markdown",
      "source": [
        "A. build a model and train datasets"
      ],
      "metadata": {
        "id": "D2CgywYP9VOE"
      }
    },
    {
      "cell_type": "code",
      "source": [
        "from google.colab import drive\n",
        "drive.mount('/content/drive')"
      ],
      "metadata": {
        "colab": {
          "base_uri": "https://localhost:8080/"
        },
        "id": "Il0eVQ5m1Ult",
        "outputId": "e1ce2812-003c-44f5-c553-b9921d8497ee"
      },
      "execution_count": null,
      "outputs": [
        {
          "output_type": "stream",
          "name": "stdout",
          "text": [
            "Mounted at /content/drive\n"
          ]
        }
      ]
    },
    {
      "cell_type": "code",
      "source": [
        "from keras.preprocessing.image import ImageDataGenerator\n",
        "\n",
        "train_datagen = ImageDataGenerator(rescale=1./255)\n",
        "test_datagen = ImageDataGenerator(rescale=1./255)\n",
        "train_generator = train_datagen.flow_from_directory(\"/content/drive/MyDrive/assignment 3 Cs512/Train\",\n",
        "                                                    target_size=(150,150), batch_size=20, class_mode='binary')\n",
        "validation_generator = test_datagen.flow_from_directory(\"/content/drive/MyDrive/assignment 3 Cs512/validation\",\n",
        "                                                        target_size=(150,150), batch_size=20, class_mode='binary')"
      ],
      "metadata": {
        "colab": {
          "base_uri": "https://localhost:8080/"
        },
        "id": "57zB9xSh9PXZ",
        "outputId": "1e789264-ed36-4723-e6f1-ff073b7bb291"
      },
      "execution_count": null,
      "outputs": [
        {
          "output_type": "stream",
          "name": "stdout",
          "text": [
            "Found 3400 images belonging to 2 classes.\n",
            "Found 600 images belonging to 2 classes.\n"
          ]
        }
      ]
    },
    {
      "cell_type": "code",
      "source": [
        "from keras import layers\n",
        "from keras import models\n",
        "model =models.Sequential()\n",
        "model.add(layers.Conv2D(32,(3,3), activation= 'relu', input_shape=(150,150,3)))\n",
        "model.add(layers.MaxPooling2D((2,2)))\n",
        "model.add(layers.Conv2D(64,(3,3), activation = 'relu'))\n",
        "model.add(layers.MaxPooling2D((2,2)))\n",
        "model.add(layers.Conv2D(128,(3,3), activation = 'relu'))\n",
        "model.add(layers.MaxPooling2D((2,2)))\n",
        "model.add(layers.Conv2D(128,(3,3), activation = 'relu'))\n",
        "model.add(layers.MaxPooling2D((2,2)))\n",
        "model.add(layers.Flatten())\n",
        "model.add(layers.Dropout(0.5))\n",
        "model.add(layers.Dense(512,activation='relu'))\n",
        "model.add(layers.Dense(1, activation= 'sigmoid'))\n",
        "model.summary()"
      ],
      "metadata": {
        "colab": {
          "base_uri": "https://localhost:8080/"
        },
        "id": "EE1TGWQf9PNO",
        "outputId": "1beaf90c-0642-46c4-bd0e-397294d09a97"
      },
      "execution_count": null,
      "outputs": [
        {
          "output_type": "stream",
          "name": "stdout",
          "text": [
            "Model: \"sequential_1\"\n",
            "_________________________________________________________________\n",
            " Layer (type)                Output Shape              Param #   \n",
            "=================================================================\n",
            " conv2d_4 (Conv2D)           (None, 148, 148, 32)      896       \n",
            "                                                                 \n",
            " max_pooling2d_4 (MaxPooling  (None, 74, 74, 32)       0         \n",
            " 2D)                                                             \n",
            "                                                                 \n",
            " conv2d_5 (Conv2D)           (None, 72, 72, 64)        18496     \n",
            "                                                                 \n",
            " max_pooling2d_5 (MaxPooling  (None, 36, 36, 64)       0         \n",
            " 2D)                                                             \n",
            "                                                                 \n",
            " conv2d_6 (Conv2D)           (None, 34, 34, 128)       73856     \n",
            "                                                                 \n",
            " max_pooling2d_6 (MaxPooling  (None, 17, 17, 128)      0         \n",
            " 2D)                                                             \n",
            "                                                                 \n",
            " conv2d_7 (Conv2D)           (None, 15, 15, 128)       147584    \n",
            "                                                                 \n",
            " max_pooling2d_7 (MaxPooling  (None, 7, 7, 128)        0         \n",
            " 2D)                                                             \n",
            "                                                                 \n",
            " flatten_1 (Flatten)         (None, 6272)              0         \n",
            "                                                                 \n",
            " dropout_1 (Dropout)         (None, 6272)              0         \n",
            "                                                                 \n",
            " dense_2 (Dense)             (None, 512)               3211776   \n",
            "                                                                 \n",
            " dense_3 (Dense)             (None, 1)                 513       \n",
            "                                                                 \n",
            "=================================================================\n",
            "Total params: 3,453,121\n",
            "Trainable params: 3,453,121\n",
            "Non-trainable params: 0\n",
            "_________________________________________________________________\n"
          ]
        }
      ]
    },
    {
      "cell_type": "code",
      "source": [
        "from keras import optimizers\n",
        "model.compile(\n",
        "    loss = 'binary_crossentropy',\n",
        "    optimizer = optimizers.RMSprop(learning_rate =1e-4),\n",
        "    metrics=['acc'])"
      ],
      "metadata": {
        "id": "4lwfG2qx9PCK"
      },
      "execution_count": null,
      "outputs": []
    },
    {
      "cell_type": "code",
      "source": [
        "history =model.fit(\n",
        "    train_generator,\n",
        "    steps_per_epoch=130\n",
        ",\n",
        "    epochs=30,\n",
        "    validation_data=validation_generator,\n",
        "    validation_steps=30)"
      ],
      "metadata": {
        "colab": {
          "base_uri": "https://localhost:8080/"
        },
        "id": "zu4N9ZAt9O2_",
        "outputId": "62bc94d0-3bc8-4f7f-a8a8-4e310c9a6e04"
      },
      "execution_count": null,
      "outputs": [
        {
          "output_type": "stream",
          "name": "stdout",
          "text": [
            "Epoch 1/30\n",
            "130/130 [==============================] - 18s 121ms/step - loss: 0.6897 - acc: 0.5192 - val_loss: 0.6756 - val_acc: 0.6083\n",
            "Epoch 2/30\n",
            "130/130 [==============================] - 15s 119ms/step - loss: 0.6589 - acc: 0.6085 - val_loss: 0.6367 - val_acc: 0.6217\n",
            "Epoch 3/30\n",
            "130/130 [==============================] - 16s 119ms/step - loss: 0.6304 - acc: 0.6404 - val_loss: 0.6109 - val_acc: 0.6717\n",
            "Epoch 4/30\n",
            "130/130 [==============================] - 15s 116ms/step - loss: 0.6005 - acc: 0.6619 - val_loss: 0.5872 - val_acc: 0.6967\n",
            "Epoch 5/30\n",
            "130/130 [==============================] - 15s 117ms/step - loss: 0.5720 - acc: 0.6996 - val_loss: 0.5610 - val_acc: 0.7133\n",
            "Epoch 6/30\n",
            "130/130 [==============================] - 15s 117ms/step - loss: 0.5451 - acc: 0.7277 - val_loss: 0.5476 - val_acc: 0.7183\n",
            "Epoch 7/30\n",
            "130/130 [==============================] - 17s 133ms/step - loss: 0.5210 - acc: 0.7442 - val_loss: 0.5476 - val_acc: 0.7150\n",
            "Epoch 8/30\n",
            "130/130 [==============================] - 15s 117ms/step - loss: 0.5016 - acc: 0.7585 - val_loss: 0.5345 - val_acc: 0.7233\n",
            "Epoch 9/30\n",
            "130/130 [==============================] - 15s 116ms/step - loss: 0.4833 - acc: 0.7769 - val_loss: 0.5243 - val_acc: 0.7333\n",
            "Epoch 10/30\n",
            "130/130 [==============================] - 16s 123ms/step - loss: 0.4680 - acc: 0.7765 - val_loss: 0.5176 - val_acc: 0.7450\n",
            "Epoch 11/30\n",
            "130/130 [==============================] - 15s 115ms/step - loss: 0.4553 - acc: 0.7854 - val_loss: 0.5099 - val_acc: 0.7583\n",
            "Epoch 12/30\n",
            "130/130 [==============================] - 15s 118ms/step - loss: 0.4495 - acc: 0.7969 - val_loss: 0.5015 - val_acc: 0.7483\n",
            "Epoch 13/30\n",
            "130/130 [==============================] - 15s 118ms/step - loss: 0.4373 - acc: 0.8031 - val_loss: 0.5015 - val_acc: 0.7533\n",
            "Epoch 14/30\n",
            "130/130 [==============================] - 15s 115ms/step - loss: 0.4153 - acc: 0.8092 - val_loss: 0.5162 - val_acc: 0.7517\n",
            "Epoch 15/30\n",
            "130/130 [==============================] - 15s 116ms/step - loss: 0.4127 - acc: 0.8112 - val_loss: 0.4899 - val_acc: 0.7650\n",
            "Epoch 16/30\n",
            "130/130 [==============================] - 15s 115ms/step - loss: 0.3901 - acc: 0.8250 - val_loss: 0.4951 - val_acc: 0.7750\n",
            "Epoch 17/30\n",
            "130/130 [==============================] - 15s 114ms/step - loss: 0.3763 - acc: 0.8281 - val_loss: 0.4901 - val_acc: 0.7650\n",
            "Epoch 18/30\n",
            "130/130 [==============================] - 16s 119ms/step - loss: 0.3597 - acc: 0.8427 - val_loss: 0.5608 - val_acc: 0.7400\n",
            "Epoch 19/30\n",
            "130/130 [==============================] - 15s 116ms/step - loss: 0.3480 - acc: 0.8469 - val_loss: 0.5046 - val_acc: 0.7600\n",
            "Epoch 20/30\n",
            "130/130 [==============================] - 15s 118ms/step - loss: 0.3387 - acc: 0.8512 - val_loss: 0.4845 - val_acc: 0.7767\n",
            "Epoch 21/30\n",
            "130/130 [==============================] - 15s 118ms/step - loss: 0.3222 - acc: 0.8600 - val_loss: 0.4874 - val_acc: 0.7833\n",
            "Epoch 22/30\n",
            "130/130 [==============================] - 17s 129ms/step - loss: 0.3079 - acc: 0.8642 - val_loss: 0.4751 - val_acc: 0.7750\n",
            "Epoch 23/30\n",
            "130/130 [==============================] - 21s 160ms/step - loss: 0.2862 - acc: 0.8773 - val_loss: 0.5118 - val_acc: 0.7617\n",
            "Epoch 24/30\n",
            "130/130 [==============================] - 19s 143ms/step - loss: 0.2828 - acc: 0.8762 - val_loss: 0.4739 - val_acc: 0.7967\n",
            "Epoch 25/30\n",
            "130/130 [==============================] - 16s 120ms/step - loss: 0.2871 - acc: 0.8773 - val_loss: 0.5155 - val_acc: 0.7667\n",
            "Epoch 26/30\n",
            "130/130 [==============================] - 15s 119ms/step - loss: 0.2654 - acc: 0.8915 - val_loss: 0.4915 - val_acc: 0.7850\n",
            "Epoch 27/30\n",
            "130/130 [==============================] - 20s 150ms/step - loss: 0.2483 - acc: 0.8931 - val_loss: 0.5417 - val_acc: 0.7600\n",
            "Epoch 28/30\n",
            "130/130 [==============================] - 16s 126ms/step - loss: 0.2557 - acc: 0.8869 - val_loss: 0.5078 - val_acc: 0.7733\n",
            "Epoch 29/30\n",
            "130/130 [==============================] - 17s 134ms/step - loss: 0.2303 - acc: 0.8992 - val_loss: 0.5312 - val_acc: 0.7733\n",
            "Epoch 30/30\n",
            "130/130 [==============================] - 17s 131ms/step - loss: 0.2218 - acc: 0.9158 - val_loss: 0.5167 - val_acc: 0.7767\n"
          ]
        }
      ]
    },
    {
      "cell_type": "code",
      "source": [
        "import matplotlib.pyplot as plt\n",
        "acc =history.history['acc']\n",
        "val_acc =history.history['val_acc']\n",
        "loss= history.history['loss']\n",
        "val_loss = history.history['val_loss']\n",
        "epochs = range(1, len(acc) + 1)\n",
        "\n",
        "#plot accuracy\n",
        "plt.plot(epochs, acc, 'bo', label= 'Training acc')\n",
        "plt.plot(epochs, val_acc, 'b', label='Validation acc')\n",
        "plt.title(\"Training and Validation accuracy\")\n",
        "plt.legend()\n",
        "\n",
        "#plot loss\n",
        "plt.figure()\n",
        "plt.plot(epochs, loss, 'bo', label =' Training loss')\n",
        "plt.plot(epochs, val_loss, 'b', label= 'Validation loss')\n",
        "plt.title(\"Training and Validation loss\")\n",
        "plt.legend()\n",
        "plt.show()"
      ],
      "metadata": {
        "colab": {
          "base_uri": "https://localhost:8080/",
          "height": 545
        },
        "id": "7Wl0s3M79OjO",
        "outputId": "c352234e-f767-4410-94a3-8ee74df7c140"
      },
      "execution_count": null,
      "outputs": [
        {
          "output_type": "display_data",
          "data": {
            "text/plain": [
              "<Figure size 432x288 with 1 Axes>"
            ],
            "image/png": "[encoded data removed]"
          },
          "metadata": {
            "needs_background": "light"
          }
        },
        {
          "output_type": "display_data",
          "data": {
            "text/plain": [
              "<Figure size 432x288 with 1 Axes>"
            ],
            "image/png": "[encoded data removed]"
          },
          "metadata": {
            "needs_background": "light"
          }
        }
      ]
    },
    {
      "cell_type": "markdown",
      "source": [
        "B. use data agumentation"
      ],
      "metadata": {
        "id": "8XG1xO1__aXY"
      }
    },
    {
      "cell_type": "code",
      "source": [
        "from keras.preprocessing.image import ImageDataGenerator\n",
        "\n",
        "#Data augmentation\n",
        "train_datagen = ImageDataGenerator(\n",
        "     rescale=1./255, rotation_range= 40, width_shift_range= 0.2, height_shift_range= 0.2,\n",
        "     shear_range=0.2, zoom_range=0.2, horizontal_flip=True,)\n",
        "test_datagen = ImageDataGenerator(rescale=1./255)\n",
        "train_generator = train_datagen.flow_from_directory(\"/content/drive/MyDrive/assignment 3 Cs512/Train\",\n",
        "                                                    target_size=(150,150), batch_size=20, class_mode='binary')\n",
        "validation_generator = test_datagen.flow_from_directory(\"/content/drive/MyDrive/assignment 3 Cs512/validation\",\n",
        "                                                        target_size=(150,150), batch_size=20, class_mode='binary')"
      ],
      "metadata": {
        "colab": {
          "base_uri": "https://localhost:8080/"
        },
        "id": "4gz_OPcPqMRt",
        "outputId": "e6a30e49-8514-427a-e1b1-af36d518a30b"
      },
      "execution_count": null,
      "outputs": [
        {
          "output_type": "stream",
          "name": "stdout",
          "text": [
            "Found 3400 images belonging to 2 classes.\n",
            "Found 600 images belonging to 2 classes.\n"
          ]
        }
      ]
    },
    {
      "cell_type": "code",
      "source": [
        "from keras import layers\n",
        "from keras import models\n",
        "model =models.Sequential()\n",
        "model.add(layers.Conv2D(32,(3,3), activation= 'relu', input_shape=(150,150,3)))\n",
        "model.add(layers.MaxPooling2D((2,2)))\n",
        "model.add(layers.Conv2D(64,(3,3), activation = 'relu'))\n",
        "model.add(layers.MaxPooling2D((2,2)))\n",
        "model.add(layers.Conv2D(128,(3,3), activation = 'relu'))\n",
        "model.add(layers.MaxPooling2D((2,2)))\n",
        "model.add(layers.Conv2D(128,(3,3), activation = 'relu'))\n",
        "model.add(layers.MaxPooling2D((2,2)))\n",
        "model.add(layers.Flatten())\n",
        "model.add(layers.Dropout(0.5))\n",
        "model.add(layers.Dense(512,activation='relu'))\n",
        "model.add(layers.Dense(1, activation= 'sigmoid'))\n",
        "model.summary()"
      ],
      "metadata": {
        "colab": {
          "base_uri": "https://localhost:8080/"
        },
        "id": "2in9fJpvsKDe",
        "outputId": "06097058-4ebf-4251-8109-a6d6e713342e"
      },
      "execution_count": null,
      "outputs": [
        {
          "output_type": "stream",
          "name": "stdout",
          "text": [
            "Model: \"sequential\"\n",
            "_________________________________________________________________\n",
            " Layer (type)                Output Shape              Param #   \n",
            "=================================================================\n",
            " conv2d (Conv2D)             (None, 148, 148, 32)      896       \n",
            "                                                                 \n",
            " max_pooling2d (MaxPooling2D  (None, 74, 74, 32)       0         \n",
            " )                                                               \n",
            "                                                                 \n",
            " conv2d_1 (Conv2D)           (None, 72, 72, 64)        18496     \n",
            "                                                                 \n",
            " max_pooling2d_1 (MaxPooling  (None, 36, 36, 64)       0         \n",
            " 2D)                                                             \n",
            "                                                                 \n",
            " conv2d_2 (Conv2D)           (None, 34, 34, 128)       73856     \n",
            "                                                                 \n",
            " max_pooling2d_2 (MaxPooling  (None, 17, 17, 128)      0         \n",
            " 2D)                                                             \n",
            "                                                                 \n",
            " conv2d_3 (Conv2D)           (None, 15, 15, 128)       147584    \n",
            "                                                                 \n",
            " max_pooling2d_3 (MaxPooling  (None, 7, 7, 128)        0         \n",
            " 2D)                                                             \n",
            "                                                                 \n",
            " flatten (Flatten)           (None, 6272)              0         \n",
            "                                                                 \n",
            " dropout (Dropout)           (None, 6272)              0         \n",
            "                                                                 \n",
            " dense (Dense)               (None, 512)               3211776   \n",
            "                                                                 \n",
            " dense_1 (Dense)             (None, 1)                 513       \n",
            "                                                                 \n",
            "=================================================================\n",
            "Total params: 3,453,121\n",
            "Trainable params: 3,453,121\n",
            "Non-trainable params: 0\n",
            "_________________________________________________________________\n"
          ]
        }
      ]
    },
    {
      "cell_type": "code",
      "source": [
        "from keras import optimizers\n",
        "model.compile(\n",
        "    loss = 'binary_crossentropy',\n",
        "    optimizer = optimizers.RMSprop(learning_rate =1e-4),\n",
        "    metrics=['acc'])"
      ],
      "metadata": {
        "id": "RSiqkFL6tFgQ"
      },
      "execution_count": null,
      "outputs": []
    },
    {
      "cell_type": "code",
      "source": [
        "history =model.fit(\n",
        "    train_generator,\n",
        "    steps_per_epoch=130\n",
        ",\n",
        "    epochs=30,\n",
        "    validation_data=validation_generator,\n",
        "    validation_steps=30)\n"
      ],
      "metadata": {
        "colab": {
          "base_uri": "https://localhost:8080/"
        },
        "id": "BnW2Sf7QtzxE",
        "outputId": "37f382f8-b837-4483-f659-3a200f682555"
      },
      "execution_count": null,
      "outputs": [
        {
          "output_type": "stream",
          "name": "stdout",
          "text": [
            "Epoch 1/30\n",
            "130/130 [==============================] - 2253s 17s/step - loss: 0.6926 - acc: 0.5238 - val_loss: 0.6781 - val_acc: 0.5800\n",
            "Epoch 2/30\n",
            " 62/130 [=============>................] - ETA: 3:57 - loss: 0.6833 - acc: 0.5524"
          ]
        },
        {
          "output_type": "stream",
          "name": "stderr",
          "text": [
            "/usr/local/lib/python3.9/dist-packages/PIL/TiffImagePlugin.py:819: UserWarning: Truncated File Read\n",
            "  warnings.warn(str(msg))\n"
          ]
        },
        {
          "output_type": "stream",
          "name": "stdout",
          "text": [
            "130/130 [==============================] - 432s 3s/step - loss: 0.6807 - acc: 0.5604 - val_loss: 0.6606 - val_acc: 0.5867\n",
            "Epoch 3/30\n",
            "130/130 [==============================] - 124s 953ms/step - loss: 0.6644 - acc: 0.5977 - val_loss: 0.6550 - val_acc: 0.6050\n",
            "Epoch 4/30\n",
            "130/130 [==============================] - 49s 378ms/step - loss: 0.6575 - acc: 0.6012 - val_loss: 0.6509 - val_acc: 0.5783\n",
            "Epoch 5/30\n",
            "130/130 [==============================] - 29s 220ms/step - loss: 0.6429 - acc: 0.6300 - val_loss: 0.6268 - val_acc: 0.6500\n",
            "Epoch 6/30\n",
            "130/130 [==============================] - 29s 222ms/step - loss: 0.6412 - acc: 0.6308 - val_loss: 0.6078 - val_acc: 0.6850\n",
            "Epoch 7/30\n",
            "130/130 [==============================] - 28s 216ms/step - loss: 0.6223 - acc: 0.6385 - val_loss: 0.5914 - val_acc: 0.7050\n",
            "Epoch 8/30\n",
            "130/130 [==============================] - 28s 215ms/step - loss: 0.6123 - acc: 0.6496 - val_loss: 0.5825 - val_acc: 0.6833\n",
            "Epoch 9/30\n",
            "130/130 [==============================] - 28s 214ms/step - loss: 0.6120 - acc: 0.6562 - val_loss: 0.5704 - val_acc: 0.7083\n",
            "Epoch 10/30\n",
            "130/130 [==============================] - 28s 215ms/step - loss: 0.5948 - acc: 0.6692 - val_loss: 0.5536 - val_acc: 0.7217\n",
            "Epoch 11/30\n",
            "130/130 [==============================] - 28s 215ms/step - loss: 0.5931 - acc: 0.6919 - val_loss: 0.6313 - val_acc: 0.6350\n",
            "Epoch 12/30\n",
            "130/130 [==============================] - 30s 232ms/step - loss: 0.5883 - acc: 0.6823 - val_loss: 0.5678 - val_acc: 0.7100\n",
            "Epoch 13/30\n",
            "130/130 [==============================] - 28s 215ms/step - loss: 0.5940 - acc: 0.6746 - val_loss: 0.5750 - val_acc: 0.6900\n",
            "Epoch 14/30\n",
            "130/130 [==============================] - 28s 217ms/step - loss: 0.5804 - acc: 0.6915 - val_loss: 0.5711 - val_acc: 0.6900\n",
            "Epoch 15/30\n",
            "130/130 [==============================] - 28s 215ms/step - loss: 0.5773 - acc: 0.7019 - val_loss: 0.5498 - val_acc: 0.7050\n",
            "Epoch 16/30\n",
            "130/130 [==============================] - 28s 214ms/step - loss: 0.5598 - acc: 0.7112 - val_loss: 0.5588 - val_acc: 0.7183\n",
            "Epoch 17/30\n",
            "130/130 [==============================] - 28s 214ms/step - loss: 0.5658 - acc: 0.7000 - val_loss: 0.5678 - val_acc: 0.7117\n",
            "Epoch 18/30\n",
            "130/130 [==============================] - 28s 215ms/step - loss: 0.5574 - acc: 0.7058 - val_loss: 0.5550 - val_acc: 0.7167\n",
            "Epoch 19/30\n",
            "130/130 [==============================] - 28s 215ms/step - loss: 0.5566 - acc: 0.7177 - val_loss: 0.5118 - val_acc: 0.7483\n",
            "Epoch 20/30\n",
            "130/130 [==============================] - 28s 214ms/step - loss: 0.5435 - acc: 0.7200 - val_loss: 0.4994 - val_acc: 0.7500\n",
            "Epoch 21/30\n",
            "130/130 [==============================] - 28s 215ms/step - loss: 0.5416 - acc: 0.7335 - val_loss: 0.4867 - val_acc: 0.7600\n",
            "Epoch 22/30\n",
            "130/130 [==============================] - 28s 214ms/step - loss: 0.5544 - acc: 0.7181 - val_loss: 0.5166 - val_acc: 0.7600\n",
            "Epoch 23/30\n",
            "130/130 [==============================] - 29s 225ms/step - loss: 0.5337 - acc: 0.7373 - val_loss: 0.4984 - val_acc: 0.7467\n",
            "Epoch 24/30\n",
            "130/130 [==============================] - 27s 212ms/step - loss: 0.5346 - acc: 0.7404 - val_loss: 0.5619 - val_acc: 0.7183\n",
            "Epoch 25/30\n",
            "130/130 [==============================] - 28s 212ms/step - loss: 0.5332 - acc: 0.7231 - val_loss: 0.5022 - val_acc: 0.7533\n",
            "Epoch 26/30\n",
            "130/130 [==============================] - 28s 213ms/step - loss: 0.5213 - acc: 0.7423 - val_loss: 0.4633 - val_acc: 0.7850\n",
            "Epoch 27/30\n",
            "130/130 [==============================] - 28s 213ms/step - loss: 0.5191 - acc: 0.7442 - val_loss: 0.4797 - val_acc: 0.7650\n",
            "Epoch 28/30\n",
            "130/130 [==============================] - 28s 213ms/step - loss: 0.5271 - acc: 0.7358 - val_loss: 0.4756 - val_acc: 0.7817\n",
            "Epoch 29/30\n",
            "130/130 [==============================] - 28s 214ms/step - loss: 0.5180 - acc: 0.7488 - val_loss: 0.4494 - val_acc: 0.7917\n",
            "Epoch 30/30\n",
            "130/130 [==============================] - 28s 213ms/step - loss: 0.5132 - acc: 0.7450 - val_loss: 0.4846 - val_acc: 0.7733\n"
          ]
        }
      ]
    },
    {
      "cell_type": "code",
      "source": [
        "import matplotlib.pyplot as plt\n",
        "acc =history.history['acc']\n",
        "val_acc =history.history['val_acc']\n",
        "loss= history.history['loss']\n",
        "val_loss = history.history['val_loss']\n",
        "epochs = range(1, len(acc) + 1)\n",
        "\n",
        "#plot accuracy\n",
        "plt.plot(epochs, acc, 'bo', label= 'Training acc')\n",
        "plt.plot(epochs, val_acc, 'b', label='Validation acc')\n",
        "plt.title(\"Training and Validation accuracy\")\n",
        "plt.legend()\n",
        "\n",
        "#plot loss\n",
        "plt.figure()\n",
        "plt.plot(epochs, loss, 'bo', label =' Training loss')\n",
        "plt.plot(epochs, val_loss, 'b', label= 'Validation loss')\n",
        "plt.title(\"Training and Validation loss\")\n",
        "plt.legend()\n",
        "plt.show()"
      ],
      "metadata": {
        "colab": {
          "base_uri": "https://localhost:8080/",
          "height": 545
        },
        "id": "i_37YtOx8294",
        "outputId": "f03ce471-f500-4252-cd85-41cf896eec00"
      },
      "execution_count": null,
      "outputs": [
        {
          "output_type": "display_data",
          "data": {
            "text/plain": [
              "<Figure size 432x288 with 1 Axes>"
            ],
            "image/png": "[encoded data removed]"
          },
          "metadata": {
            "needs_background": "light"
          }
        },
        {
          "output_type": "display_data",
          "data": {
            "text/plain": [
              "<Figure size 432x288 with 1 Axes>"
            ],
            "image/png": "[encoded data removed]"
          },
          "metadata": {
            "needs_background": "light"
          }
        }
      ]
    },
    {
      "cell_type": "markdown",
      "source": [
        "C. VGG16 , here I tried to use VGG16 with 100 steps_per_epoch for trainig and the result was not good , so I tried another time below for 30 time or len(traing_generator) and I got better result"
      ],
      "metadata": {
        "id": "KWoh76sCB3LJ"
      }
    },
    {
      "cell_type": "code",
      "source": [
        "#load VGG16\n",
        "from keras.applications import VGG16\n",
        "conv_base= VGG16(\n",
        "    weights = 'imagenet',\n",
        "    include_top=False,\n",
        "    input_shape=(150, 150, 3))\n",
        "conv_base.summary()"
      ],
      "metadata": {
        "colab": {
          "base_uri": "https://localhost:8080/"
        },
        "id": "TXYbDMQEB5Xj",
        "outputId": "137dc6a6-3f4b-49fb-80c8-f87ca364969c"
      },
      "execution_count": null,
      "outputs": [
        {
          "output_type": "stream",
          "name": "stdout",
          "text": [
            "Downloading data from https://storage.googleapis.com/tensorflow/keras-applications/vgg16/vgg16_weights_tf_dim_ordering_tf_kernels_notop.h5\n",
            "58889256/58889256 [==============================] - 4s 0us/step\n",
            "Model: \"vgg16\"\n",
            "_________________________________________________________________\n",
            " Layer (type)                Output Shape              Param #   \n",
            "=================================================================\n",
            " input_1 (InputLayer)        [(None, 150, 150, 3)]     0         \n",
            "                                                                 \n",
            " block1_conv1 (Conv2D)       (None, 150, 150, 64)      1792      \n",
            "                                                                 \n",
            " block1_conv2 (Conv2D)       (None, 150, 150, 64)      36928     \n",
            "                                                                 \n",
            " block1_pool (MaxPooling2D)  (None, 75, 75, 64)        0         \n",
            "                                                                 \n",
            " block2_conv1 (Conv2D)       (None, 75, 75, 128)       73856     \n",
            "                                                                 \n",
            " block2_conv2 (Conv2D)       (None, 75, 75, 128)       147584    \n",
            "                                                                 \n",
            " block2_pool (MaxPooling2D)  (None, 37, 37, 128)       0         \n",
            "                                                                 \n",
            " block3_conv1 (Conv2D)       (None, 37, 37, 256)       295168    \n",
            "                                                                 \n",
            " block3_conv2 (Conv2D)       (None, 37, 37, 256)       590080    \n",
            "                                                                 \n",
            " block3_conv3 (Conv2D)       (None, 37, 37, 256)       590080    \n",
            "                                                                 \n",
            " block3_pool (MaxPooling2D)  (None, 18, 18, 256)       0         \n",
            "                                                                 \n",
            " block4_conv1 (Conv2D)       (None, 18, 18, 512)       1180160   \n",
            "                                                                 \n",
            " block4_conv2 (Conv2D)       (None, 18, 18, 512)       2359808   \n",
            "                                                                 \n",
            " block4_conv3 (Conv2D)       (None, 18, 18, 512)       2359808   \n",
            "                                                                 \n",
            " block4_pool (MaxPooling2D)  (None, 9, 9, 512)         0         \n",
            "                                                                 \n",
            " block5_conv1 (Conv2D)       (None, 9, 9, 512)         2359808   \n",
            "                                                                 \n",
            " block5_conv2 (Conv2D)       (None, 9, 9, 512)         2359808   \n",
            "                                                                 \n",
            " block5_conv3 (Conv2D)       (None, 9, 9, 512)         2359808   \n",
            "                                                                 \n",
            " block5_pool (MaxPooling2D)  (None, 4, 4, 512)         0         \n",
            "                                                                 \n",
            "=================================================================\n",
            "Total params: 14,714,688\n",
            "Trainable params: 14,714,688\n",
            "Non-trainable params: 0\n",
            "_________________________________________________________________\n"
          ]
        }
      ]
    },
    {
      "cell_type": "code",
      "source": [
        "#load the model\n",
        "from keras import models\n",
        "from keras import layers\n",
        "model= models.Sequential()\n",
        "model.add(conv_base)\n",
        "model.add(layers.Flatten())\n",
        "model.add(layers.Dense(256,activation= 'relu'))\n",
        "model.add(layers.Dense(1,activation= 'relu'))\n",
        "model.summary()"
      ],
      "metadata": {
        "colab": {
          "base_uri": "https://localhost:8080/"
        },
        "id": "s8pPNoWmB-6V",
        "outputId": "5deec328-32c8-48eb-e676-93cb1e755f0f"
      },
      "execution_count": null,
      "outputs": [
        {
          "output_type": "stream",
          "name": "stdout",
          "text": [
            "Model: \"sequential_2\"\n",
            "_________________________________________________________________\n",
            " Layer (type)                Output Shape              Param #   \n",
            "=================================================================\n",
            " vgg16 (Functional)          (None, 4, 4, 512)         14714688  \n",
            "                                                                 \n",
            " flatten_2 (Flatten)         (None, 8192)              0         \n",
            "                                                                 \n",
            " dense_4 (Dense)             (None, 256)               2097408   \n",
            "                                                                 \n",
            " dense_5 (Dense)             (None, 1)                 257       \n",
            "                                                                 \n",
            "=================================================================\n",
            "Total params: 16,812,353\n",
            "Trainable params: 16,812,353\n",
            "Non-trainable params: 0\n",
            "_________________________________________________________________\n"
          ]
        }
      ]
    },
    {
      "cell_type": "code",
      "source": [
        "#freez\n",
        "conv_base.trainable = False\n",
        "print('number of weight tensors after freezing the conv base:',len(model.trainable_weights))"
      ],
      "metadata": {
        "colab": {
          "base_uri": "https://localhost:8080/"
        },
        "id": "rt6-7UwXCDer",
        "outputId": "debddb49-f4b4-410e-e69f-ef972215eb3b"
      },
      "execution_count": null,
      "outputs": [
        {
          "output_type": "stream",
          "name": "stdout",
          "text": [
            "number of weight tensors after freezing the conv base: 4\n"
          ]
        }
      ]
    },
    {
      "cell_type": "code",
      "source": [
        "# compile network:\n",
        "from keras import optimizers\n",
        "model.compile(\n",
        "    loss = 'binary_crossentropy',\n",
        "    optimizer = optimizers.RMSprop(learning_rate =1e-4),\n",
        "    metrics=['acc'])"
      ],
      "metadata": {
        "id": "Gva2pL1TCIAH"
      },
      "execution_count": null,
      "outputs": []
    },
    {
      "cell_type": "code",
      "source": [
        "from keras.preprocessing.image import ImageDataGenerator\n",
        "\n",
        "#Data augmentation\n",
        "train_datagen = ImageDataGenerator(\n",
        "     rescale=1./255, rotation_range= 40, width_shift_range= 0.2, height_shift_range= 0.2,\n",
        "     shear_range=0.2, zoom_range=0.2, horizontal_flip=True,)\n",
        "test_datagen = ImageDataGenerator(rescale=1./255)\n",
        "train_generator = train_datagen.flow_from_directory(\"/content/drive/MyDrive/assignment 3 Cs512/Train\",\n",
        "                                                    target_size=(150,150), batch_size=20, class_mode='binary')\n",
        "validation_generator = test_datagen.flow_from_directory(\"/content/drive/MyDrive/assignment 3 Cs512/validation\",\n",
        "                                                        target_size=(150,150), batch_size=20, class_mode='binary')\n"
      ],
      "metadata": {
        "colab": {
          "base_uri": "https://localhost:8080/"
        },
        "id": "5FchwcqeCJmL",
        "outputId": "f1d426e6-d23b-4ba8-8b2c-a493600f83a5"
      },
      "execution_count": null,
      "outputs": [
        {
          "output_type": "stream",
          "name": "stdout",
          "text": [
            "Found 3400 images belonging to 2 classes.\n",
            "Found 600 images belonging to 2 classes.\n"
          ]
        }
      ]
    },
    {
      "cell_type": "code",
      "source": [
        "history =model.fit(\n",
        "    train_generator,\n",
        "    steps_per_epoch=100,\n",
        "    epochs=30,\n",
        "\n",
        "    validation_data=validation_generator,\n",
        "    validation_steps=30)"
      ],
      "metadata": {
        "colab": {
          "base_uri": "https://localhost:8080/"
        },
        "id": "LB7j7aZfCkNw",
        "outputId": "cb711596-e6c9-4e24-cd2a-46384f43ea12"
      },
      "execution_count": null,
      "outputs": [
        {
          "output_type": "stream",
          "name": "stdout",
          "text": [
            "Epoch 1/30\n",
            "100/100 [==============================] - 31s 280ms/step - loss: 7.4582 - acc: 0.5125 - val_loss: 7.7125 - val_acc: 0.5000\n",
            "Epoch 2/30\n",
            "100/100 [==============================] - 25s 250ms/step - loss: 7.5428 - acc: 0.5110 - val_loss: 7.7125 - val_acc: 0.5000\n",
            "Epoch 3/30\n",
            "100/100 [==============================] - 26s 264ms/step - loss: 7.5274 - acc: 0.5120 - val_loss: 7.7125 - val_acc: 0.5000\n",
            "Epoch 4/30\n",
            "100/100 [==============================] - 26s 263ms/step - loss: 7.6045 - acc: 0.5070 - val_loss: 7.7125 - val_acc: 0.5000\n",
            "Epoch 5/30\n",
            "100/100 [==============================] - 27s 266ms/step - loss: 7.8127 - acc: 0.4935 - val_loss: 7.7125 - val_acc: 0.5000\n",
            "Epoch 6/30\n",
            "100/100 [==============================] - 28s 284ms/step - loss: 7.8744 - acc: 0.4895 - val_loss: 7.7125 - val_acc: 0.5000\n",
            "Epoch 7/30\n",
            "100/100 [==============================] - 25s 251ms/step - loss: 7.4657 - acc: 0.5160 - val_loss: 7.7125 - val_acc: 0.5000\n",
            "Epoch 8/30\n",
            "100/100 [==============================] - 26s 257ms/step - loss: 7.6276 - acc: 0.5055 - val_loss: 7.7125 - val_acc: 0.5000\n",
            "Epoch 9/30\n",
            "100/100 [==============================] - 26s 261ms/step - loss: 7.5505 - acc: 0.5105 - val_loss: 7.7125 - val_acc: 0.5000\n",
            "Epoch 10/30\n",
            "100/100 [==============================] - 25s 249ms/step - loss: 7.7048 - acc: 0.5005 - val_loss: 7.7125 - val_acc: 0.5000\n",
            "Epoch 11/30\n",
            "100/100 [==============================] - 24s 243ms/step - loss: 7.9053 - acc: 0.4875 - val_loss: 7.7125 - val_acc: 0.5000\n",
            "Epoch 12/30\n",
            "100/100 [==============================] - 24s 245ms/step - loss: 7.7125 - acc: 0.5000 - val_loss: 7.7125 - val_acc: 0.5000\n",
            "Epoch 13/30\n",
            "100/100 [==============================] - 24s 244ms/step - loss: 7.9593 - acc: 0.4840 - val_loss: 7.7125 - val_acc: 0.5000\n",
            "Epoch 14/30\n",
            "100/100 [==============================] - 24s 242ms/step - loss: 7.7279 - acc: 0.4990 - val_loss: 7.7125 - val_acc: 0.5000\n",
            "Epoch 15/30\n",
            "100/100 [==============================] - 26s 257ms/step - loss: 7.7973 - acc: 0.4945 - val_loss: 7.7125 - val_acc: 0.5000\n",
            "Epoch 16/30\n",
            "100/100 [==============================] - 25s 255ms/step - loss: 7.8513 - acc: 0.4910 - val_loss: 7.7125 - val_acc: 0.5000\n",
            "Epoch 17/30\n",
            "100/100 [==============================] - 24s 240ms/step - loss: 7.6662 - acc: 0.5030 - val_loss: 7.7125 - val_acc: 0.5000\n",
            "Epoch 18/30\n",
            "100/100 [==============================] - 24s 243ms/step - loss: 7.5659 - acc: 0.5095 - val_loss: 7.7125 - val_acc: 0.5000\n",
            "Epoch 19/30\n",
            "100/100 [==============================] - 24s 237ms/step - loss: 7.6816 - acc: 0.5020 - val_loss: 7.7125 - val_acc: 0.5000\n",
            "Epoch 20/30\n",
            "100/100 [==============================] - 25s 247ms/step - loss: 7.8204 - acc: 0.4930 - val_loss: 7.7125 - val_acc: 0.5000\n",
            "Epoch 21/30\n",
            "100/100 [==============================] - 24s 238ms/step - loss: 7.9130 - acc: 0.4870 - val_loss: 7.7125 - val_acc: 0.5000\n",
            "Epoch 22/30\n",
            "100/100 [==============================] - 25s 247ms/step - loss: 7.7125 - acc: 0.5000 - val_loss: 7.7125 - val_acc: 0.5000\n",
            "Epoch 23/30\n",
            "100/100 [==============================] - 27s 268ms/step - loss: 7.7742 - acc: 0.4960 - val_loss: 7.7125 - val_acc: 0.5000\n",
            "Epoch 24/30\n",
            "100/100 [==============================] - 25s 248ms/step - loss: 7.7125 - acc: 0.5000 - val_loss: 7.7125 - val_acc: 0.5000\n",
            "Epoch 25/30\n",
            "100/100 [==============================] - 24s 244ms/step - loss: 7.5659 - acc: 0.5095 - val_loss: 7.7125 - val_acc: 0.5000\n",
            "Epoch 26/30\n",
            "100/100 [==============================] - 23s 231ms/step - loss: 7.5736 - acc: 0.5090 - val_loss: 7.7125 - val_acc: 0.5000\n",
            "Epoch 27/30\n",
            "100/100 [==============================] - 25s 245ms/step - loss: 7.7973 - acc: 0.4945 - val_loss: 7.7125 - val_acc: 0.5000\n",
            "Epoch 28/30\n",
            "100/100 [==============================] - 24s 237ms/step - loss: 7.8436 - acc: 0.4915 - val_loss: 7.7125 - val_acc: 0.5000\n",
            "Epoch 29/30\n",
            "100/100 [==============================] - 26s 257ms/step - loss: 7.7742 - acc: 0.4960 - val_loss: 7.7125 - val_acc: 0.5000\n",
            "Epoch 30/30\n",
            "100/100 [==============================] - 24s 242ms/step - loss: 7.6739 - acc: 0.5025 - val_loss: 7.7125 - val_acc: 0.5000\n"
          ]
        }
      ]
    },
    {
      "cell_type": "code",
      "source": [
        "import matplotlib.pyplot as plt\n",
        "acc =history.history['acc']\n",
        "val_acc =history.history['val_acc']\n",
        "loss= history.history['loss']\n",
        "val_loss = history.history['val_loss']\n",
        "epochs = range(1, len(acc) + 1)\n",
        "\n",
        "#plot accuracy\n",
        "plt.plot(epochs, acc, 'bo', label= 'Training acc')\n",
        "plt.plot(epochs, val_acc, 'b', label='Validation acc')\n",
        "plt.title(\"Training and Validation accuracy\")\n",
        "plt.legend()\n",
        "\n",
        "#plot loss\n",
        "plt.figure()\n",
        "plt.plot(epochs, loss, 'bo', label =' Training loss')\n",
        "plt.plot(epochs, val_loss, 'b', label= 'Validation loss')\n",
        "plt.title(\"Training and Validation loss\")\n",
        "plt.legend()\n",
        "plt.show()"
      ],
      "metadata": {
        "id": "eo4CpzyrDEO-",
        "outputId": "e9069bf2-d5fd-4b42-9c7e-218c5a0ba528",
        "colab": {
          "base_uri": "https://localhost:8080/",
          "height": 545
        }
      },
      "execution_count": null,
      "outputs": [
        {
          "output_type": "display_data",
          "data": {
            "text/plain": [
              "<Figure size 432x288 with 1 Axes>"
            ],
            "image/png": "[encoded data removed]"
          },
          "metadata": {
            "needs_background": "light"
          }
        },
        {
          "output_type": "display_data",
          "data": {
            "text/plain": [
              "<Figure size 432x288 with 1 Axes>"
            ],
            "image/png": "[encoded data removed]"
          },
          "metadata": {
            "needs_background": "light"
          }
        }
      ]
    },
    {
      "cell_type": "code",
      "source": [
        "conv_base.summary()"
      ],
      "metadata": {
        "id": "_XPFl7PYDDnD",
        "outputId": "b6795a22-3400-41aa-d39f-eb0b38b40733",
        "colab": {
          "base_uri": "https://localhost:8080/"
        }
      },
      "execution_count": null,
      "outputs": [
        {
          "output_type": "stream",
          "name": "stdout",
          "text": [
            "Model: \"vgg16\"\n",
            "_________________________________________________________________\n",
            " Layer (type)                Output Shape              Param #   \n",
            "=================================================================\n",
            " input_1 (InputLayer)        [(None, 150, 150, 3)]     0         \n",
            "                                                                 \n",
            " block1_conv1 (Conv2D)       (None, 150, 150, 64)      1792      \n",
            "                                                                 \n",
            " block1_conv2 (Conv2D)       (None, 150, 150, 64)      36928     \n",
            "                                                                 \n",
            " block1_pool (MaxPooling2D)  (None, 75, 75, 64)        0         \n",
            "                                                                 \n",
            " block2_conv1 (Conv2D)       (None, 75, 75, 128)       73856     \n",
            "                                                                 \n",
            " block2_conv2 (Conv2D)       (None, 75, 75, 128)       147584    \n",
            "                                                                 \n",
            " block2_pool (MaxPooling2D)  (None, 37, 37, 128)       0         \n",
            "                                                                 \n",
            " block3_conv1 (Conv2D)       (None, 37, 37, 256)       295168    \n",
            "                                                                 \n",
            " block3_conv2 (Conv2D)       (None, 37, 37, 256)       590080    \n",
            "                                                                 \n",
            " block3_conv3 (Conv2D)       (None, 37, 37, 256)       590080    \n",
            "                                                                 \n",
            " block3_pool (MaxPooling2D)  (None, 18, 18, 256)       0         \n",
            "                                                                 \n",
            " block4_conv1 (Conv2D)       (None, 18, 18, 512)       1180160   \n",
            "                                                                 \n",
            " block4_conv2 (Conv2D)       (None, 18, 18, 512)       2359808   \n",
            "                                                                 \n",
            " block4_conv3 (Conv2D)       (None, 18, 18, 512)       2359808   \n",
            "                                                                 \n",
            " block4_pool (MaxPooling2D)  (None, 9, 9, 512)         0         \n",
            "                                                                 \n",
            " block5_conv1 (Conv2D)       (None, 9, 9, 512)         2359808   \n",
            "                                                                 \n",
            " block5_conv2 (Conv2D)       (None, 9, 9, 512)         2359808   \n",
            "                                                                 \n",
            " block5_conv3 (Conv2D)       (None, 9, 9, 512)         2359808   \n",
            "                                                                 \n",
            " block5_pool (MaxPooling2D)  (None, 4, 4, 512)         0         \n",
            "                                                                 \n",
            "=================================================================\n",
            "Total params: 14,714,688\n",
            "Trainable params: 0\n",
            "Non-trainable params: 14,714,688\n",
            "_________________________________________________________________\n"
          ]
        }
      ]
    },
    {
      "cell_type": "code",
      "source": [
        "# fressing all ayers up to block5\n",
        "conv_base.trianable= True\n",
        "set_trainable = False\n",
        "for layer in conv_base.layers:\n",
        "    if layer.name == 'block5_conv1':\n",
        "        set_trainable= True\n",
        "    if set_trainable:\n",
        "        layer.trainable= True\n",
        "    else:\n",
        "        layer.trainable= False\n",
        ""
      ],
      "metadata": {
        "id": "Y5t29LyRDEBD"
      },
      "execution_count": null,
      "outputs": []
    },
    {
      "cell_type": "code",
      "source": [
        "history =model.fit(\n",
        "    train_generator,\n",
        "    steps_per_epoch=100,\n",
        "    epochs=30,\n",
        "    validation_data=validation_generator,\n",
        "    validation_steps=30)"
      ],
      "metadata": {
        "id": "HV5NXY-vDQJM",
        "outputId": "cc1f50af-0862-45d2-8b1f-e32cf34d9301",
        "colab": {
          "base_uri": "https://localhost:8080/"
        }
      },
      "execution_count": null,
      "outputs": [
        {
          "output_type": "stream",
          "name": "stdout",
          "text": [
            "Epoch 1/30\n",
            "100/100 [==============================] - 23s 231ms/step - loss: 7.5814 - acc: 0.5085 - val_loss: 7.7125 - val_acc: 0.5000\n",
            "Epoch 2/30\n",
            "100/100 [==============================] - 23s 234ms/step - loss: 7.6508 - acc: 0.5040 - val_loss: 7.7125 - val_acc: 0.5000\n",
            "Epoch 3/30\n",
            "100/100 [==============================] - 23s 232ms/step - loss: 7.6508 - acc: 0.5040 - val_loss: 7.7125 - val_acc: 0.5000\n",
            "Epoch 4/30\n",
            "100/100 [==============================] - 26s 257ms/step - loss: 7.7742 - acc: 0.4960 - val_loss: 7.7125 - val_acc: 0.5000\n",
            "Epoch 5/30\n",
            "100/100 [==============================] - 24s 240ms/step - loss: 7.6970 - acc: 0.5010 - val_loss: 7.7125 - val_acc: 0.5000\n",
            "Epoch 6/30\n",
            "100/100 [==============================] - 24s 243ms/step - loss: 7.8513 - acc: 0.4910 - val_loss: 7.7125 - val_acc: 0.5000\n",
            "Epoch 7/30\n",
            "100/100 [==============================] - 24s 242ms/step - loss: 7.8590 - acc: 0.4905 - val_loss: 7.7125 - val_acc: 0.5000\n",
            "Epoch 8/30\n",
            "100/100 [==============================] - 24s 242ms/step - loss: 7.7587 - acc: 0.4970 - val_loss: 7.7125 - val_acc: 0.5000\n",
            "Epoch 9/30\n",
            "100/100 [==============================] - 24s 243ms/step - loss: 7.7048 - acc: 0.5005 - val_loss: 7.7125 - val_acc: 0.5000\n",
            "Epoch 10/30\n",
            "100/100 [==============================] - 24s 241ms/step - loss: 7.5814 - acc: 0.5085 - val_loss: 7.7125 - val_acc: 0.5000\n",
            "Epoch 11/30\n",
            "100/100 [==============================] - 25s 254ms/step - loss: 7.6816 - acc: 0.5020 - val_loss: 7.7125 - val_acc: 0.5000\n",
            "Epoch 12/30\n",
            "100/100 [==============================] - 24s 240ms/step - loss: 7.6199 - acc: 0.5060 - val_loss: 7.7125 - val_acc: 0.5000\n",
            "Epoch 13/30\n",
            "100/100 [==============================] - 24s 243ms/step - loss: 7.6739 - acc: 0.5025 - val_loss: 7.7125 - val_acc: 0.5000\n",
            "Epoch 14/30\n",
            "100/100 [==============================] - 25s 254ms/step - loss: 7.8590 - acc: 0.4905 - val_loss: 7.7125 - val_acc: 0.5000\n",
            "Epoch 15/30\n",
            "100/100 [==============================] - 24s 245ms/step - loss: 7.8667 - acc: 0.4900 - val_loss: 7.7125 - val_acc: 0.5000\n",
            "Epoch 16/30\n",
            "100/100 [==============================] - 23s 233ms/step - loss: 7.6970 - acc: 0.5010 - val_loss: 7.7125 - val_acc: 0.5000\n",
            "Epoch 17/30\n",
            "100/100 [==============================] - 24s 241ms/step - loss: 7.7665 - acc: 0.4965 - val_loss: 7.7125 - val_acc: 0.5000\n",
            "Epoch 18/30\n",
            "100/100 [==============================] - 23s 233ms/step - loss: 7.5968 - acc: 0.5075 - val_loss: 7.7125 - val_acc: 0.5000\n",
            "Epoch 19/30\n",
            "100/100 [==============================] - 25s 254ms/step - loss: 7.8899 - acc: 0.4885 - val_loss: 7.7125 - val_acc: 0.5000\n",
            "Epoch 20/30\n",
            "100/100 [==============================] - 24s 241ms/step - loss: 7.2729 - acc: 0.5285 - val_loss: 7.7125 - val_acc: 0.5000\n",
            "Epoch 21/30\n",
            "100/100 [==============================] - 25s 252ms/step - loss: 7.6122 - acc: 0.5065 - val_loss: 7.7125 - val_acc: 0.5000\n",
            "Epoch 22/30\n",
            "100/100 [==============================] - 24s 243ms/step - loss: 7.6045 - acc: 0.5070 - val_loss: 7.7125 - val_acc: 0.5000\n",
            "Epoch 23/30\n",
            "100/100 [==============================] - 25s 245ms/step - loss: 7.8744 - acc: 0.4895 - val_loss: 7.7125 - val_acc: 0.5000\n",
            "Epoch 24/30\n",
            "100/100 [==============================] - 24s 241ms/step - loss: 7.5968 - acc: 0.5075 - val_loss: 7.7125 - val_acc: 0.5000\n",
            "Epoch 25/30\n",
            "100/100 [==============================] - 24s 242ms/step - loss: 7.7279 - acc: 0.4990 - val_loss: 7.7125 - val_acc: 0.5000\n",
            "Epoch 26/30\n",
            "100/100 [==============================] - 24s 243ms/step - loss: 7.4657 - acc: 0.5160 - val_loss: 7.7125 - val_acc: 0.5000\n",
            "Epoch 27/30\n",
            "100/100 [==============================] - 24s 241ms/step - loss: 7.6585 - acc: 0.5035 - val_loss: 7.7125 - val_acc: 0.5000\n",
            "Epoch 28/30\n",
            "100/100 [==============================] - 25s 250ms/step - loss: 7.6970 - acc: 0.5010 - val_loss: 7.7125 - val_acc: 0.5000\n",
            "Epoch 29/30\n",
            "100/100 [==============================] - 23s 229ms/step - loss: 7.6045 - acc: 0.5070 - val_loss: 7.7125 - val_acc: 0.5000\n",
            "Epoch 30/30\n",
            "100/100 [==============================] - 24s 241ms/step - loss: 7.7202 - acc: 0.4995 - val_loss: 7.7125 - val_acc: 0.5000\n"
          ]
        }
      ]
    },
    {
      "cell_type": "code",
      "source": [
        "import matplotlib.pyplot as plt\n",
        "acc =history.history['acc']\n",
        "val_acc =history.history['val_acc']\n",
        "loss= history.history['loss']\n",
        "val_loss = history.history['val_loss']\n",
        "epochs = range(1, len(acc) + 1)\n",
        "\n",
        "#plot accuracy\n",
        "plt.plot(epochs, acc, 'bo', label= 'Training acc')\n",
        "plt.plot(epochs, val_acc, 'b', label='Validation acc')\n",
        "plt.title(\"Training and Validation accuracy\")\n",
        "plt.legend()\n",
        "\n",
        "#plot loss\n",
        "plt.figure()\n",
        "plt.plot(epochs, loss, 'bo', label =' Training loss')\n",
        "plt.plot(epochs, val_loss, 'b', label= 'Validation loss')\n",
        "plt.title(\"Training and Validation loss\")\n",
        "plt.legend()\n",
        "plt.show()"
      ],
      "metadata": {
        "id": "bw-yd25lDeBH",
        "outputId": "28f0f11b-c179-4558-8662-4934cb500ae8",
        "colab": {
          "base_uri": "https://localhost:8080/",
          "height": 545
        }
      },
      "execution_count": null,
      "outputs": [
        {
          "output_type": "display_data",
          "data": {
            "text/plain": [
              "<Figure size 432x288 with 1 Axes>"
            ],
            "image/png": "[encoded data removed]"
          },
          "metadata": {
            "needs_background": "light"
          }
        },
        {
          "output_type": "display_data",
          "data": {
            "text/plain": [
              "<Figure size 432x288 with 1 Axes>"
            ],
            "image/png": "[encoded data removed]"
          },
          "metadata": {
            "needs_background": "light"
          }
        }
      ]
    },
    {
      "cell_type": "markdown",
      "source": [
        "VGG16.2 pre_trainging the second try to fix the problem that I got in the previuos model."
      ],
      "metadata": {
        "id": "qHEE1wc55Vv_"
      }
    },
    {
      "cell_type": "code",
      "source": [
        "import tensorflow\n",
        "from tensorflow.keras import layers\n",
        "from tensorflow.keras import Model\n",
        "from tensorflow.keras.models import Sequential\n",
        "from tensorflow.keras.applications.vgg16 import VGG16"
      ],
      "metadata": {
        "id": "vaM12eCN5UHy"
      },
      "execution_count": null,
      "outputs": []
    },
    {
      "cell_type": "code",
      "source": [
        "from keras.preprocessing.image import ImageDataGenerator\n",
        "train_augmentation= ImageDataGenerator(\n",
        "    rescale=1./255,\n",
        "    rotation_range=0.2,\n",
        "    width_shift_range=0.2,\n",
        "    height_shift_range=0.2,\n",
        "    zoom_range=0.2,\n",
        "    horizontal_flip= True,\n",
        ")\n"
      ],
      "metadata": {
        "id": "mv9IEee32x0d"
      },
      "execution_count": null,
      "outputs": []
    },
    {
      "cell_type": "code",
      "source": [
        "train_generator = train_augmentation.flow_from_directory(\n",
        "    directory = \"/content/drive/MyDrive/assignment 3 Cs512/Train\",\n",
        "    target_size=(128,128),\n",
        "    batch_size=125,\n",
        "    class_mode='binary')\n"
      ],
      "metadata": {
        "colab": {
          "base_uri": "https://localhost:8080/"
        },
        "id": "_otsNiyZ1CmR",
        "outputId": "b438f400-5fde-4517-b248-bede4067c5b3"
      },
      "execution_count": null,
      "outputs": [
        {
          "output_type": "stream",
          "name": "stdout",
          "text": [
            "Found 3400 images belonging to 2 classes.\n"
          ]
        }
      ]
    },
    {
      "cell_type": "code",
      "source": [
        "validation_augmentation= ImageDataGenerator(\n",
        "    rescale=1./255\n",
        ")\n"
      ],
      "metadata": {
        "id": "wYOGXByf1RXx"
      },
      "execution_count": null,
      "outputs": []
    },
    {
      "cell_type": "code",
      "source": [
        "validation_generator = validation_augmentation.flow_from_directory(\n",
        "    directory = \"/content/drive/MyDrive/assignment 3 Cs512/validation\",\n",
        "    target_size=(128,128),\n",
        "    batch_size=125,\n",
        "    class_mode='binary')"
      ],
      "metadata": {
        "colab": {
          "base_uri": "https://localhost:8080/"
        },
        "id": "UV9eBiS24Qw8",
        "outputId": "12b36adc-64cb-465a-da52-4e95fdadd07e"
      },
      "execution_count": null,
      "outputs": [
        {
          "output_type": "stream",
          "name": "stdout",
          "text": [
            "Found 600 images belonging to 2 classes.\n"
          ]
        }
      ]
    },
    {
      "cell_type": "code",
      "source": [
        "conv_base= VGG16(input_shape=(128,128,3),include_top=False,weights='imagenet')"
      ],
      "metadata": {
        "colab": {
          "base_uri": "https://localhost:8080/"
        },
        "id": "Q7ctwjmF1Egn",
        "outputId": "c4583fbb-3b30-4173-b79b-da4aafa7082a"
      },
      "execution_count": null,
      "outputs": [
        {
          "output_type": "stream",
          "name": "stdout",
          "text": [
            "Downloading data from https://storage.googleapis.com/tensorflow/keras-applications/vgg16/vgg16_weights_tf_dim_ordering_tf_kernels_notop.h5\n",
            "58889256/58889256 [==============================] - 1s 0us/step\n"
          ]
        }
      ]
    },
    {
      "cell_type": "code",
      "source": [
        "conv_base.summary()"
      ],
      "metadata": {
        "colab": {
          "base_uri": "https://localhost:8080/"
        },
        "id": "f68Vh2uC1Ek9",
        "outputId": "0a6654ff-5659-4d87-9f4a-6ce0add2a73f"
      },
      "execution_count": null,
      "outputs": [
        {
          "output_type": "stream",
          "name": "stdout",
          "text": [
            "Model: \"vgg16\"\n",
            "_________________________________________________________________\n",
            " Layer (type)                Output Shape              Param #   \n",
            "=================================================================\n",
            " input_1 (InputLayer)        [(None, 128, 128, 3)]     0         \n",
            "                                                                 \n",
            " block1_conv1 (Conv2D)       (None, 128, 128, 64)      1792      \n",
            "                                                                 \n",
            " block1_conv2 (Conv2D)       (None, 128, 128, 64)      36928     \n",
            "                                                                 \n",
            " block1_pool (MaxPooling2D)  (None, 64, 64, 64)        0         \n",
            "                                                                 \n",
            " block2_conv1 (Conv2D)       (None, 64, 64, 128)       73856     \n",
            "                                                                 \n",
            " block2_conv2 (Conv2D)       (None, 64, 64, 128)       147584    \n",
            "                                                                 \n",
            " block2_pool (MaxPooling2D)  (None, 32, 32, 128)       0         \n",
            "                                                                 \n",
            " block3_conv1 (Conv2D)       (None, 32, 32, 256)       295168    \n",
            "                                                                 \n",
            " block3_conv2 (Conv2D)       (None, 32, 32, 256)       590080    \n",
            "                                                                 \n",
            " block3_conv3 (Conv2D)       (None, 32, 32, 256)       590080    \n",
            "                                                                 \n",
            " block3_pool (MaxPooling2D)  (None, 16, 16, 256)       0         \n",
            "                                                                 \n",
            " block4_conv1 (Conv2D)       (None, 16, 16, 512)       1180160   \n",
            "                                                                 \n",
            " block4_conv2 (Conv2D)       (None, 16, 16, 512)       2359808   \n",
            "                                                                 \n",
            " block4_conv3 (Conv2D)       (None, 16, 16, 512)       2359808   \n",
            "                                                                 \n",
            " block4_pool (MaxPooling2D)  (None, 8, 8, 512)         0         \n",
            "                                                                 \n",
            " block5_conv1 (Conv2D)       (None, 8, 8, 512)         2359808   \n",
            "                                                                 \n",
            " block5_conv2 (Conv2D)       (None, 8, 8, 512)         2359808   \n",
            "                                                                 \n",
            " block5_conv3 (Conv2D)       (None, 8, 8, 512)         2359808   \n",
            "                                                                 \n",
            " block5_pool (MaxPooling2D)  (None, 4, 4, 512)         0         \n",
            "                                                                 \n",
            "=================================================================\n",
            "Total params: 14,714,688\n",
            "Trainable params: 14,714,688\n",
            "Non-trainable params: 0\n",
            "_________________________________________________________________\n"
          ]
        }
      ]
    },
    {
      "cell_type": "code",
      "source": [
        "for layer in conv_base.layers:\n",
        "  layer.trainable =False"
      ],
      "metadata": {
        "id": "sBj_IMBS6M4c"
      },
      "execution_count": null,
      "outputs": []
    },
    {
      "cell_type": "code",
      "source": [
        "model = Sequential()\n",
        "model.add(conv_base)\n",
        "model.add(layers.Flatten())\n",
        "model.add(layers.Dense(256, activation='relu'))\n",
        "model.add(layers.Dense(1, activation= 'sigmoid'))"
      ],
      "metadata": {
        "id": "hCYwk6DK6NGV"
      },
      "execution_count": null,
      "outputs": []
    },
    {
      "cell_type": "code",
      "source": [
        "model.summary()"
      ],
      "metadata": {
        "colab": {
          "base_uri": "https://localhost:8080/"
        },
        "id": "kqnSjGeg6NMU",
        "outputId": "0ee6d990-75e6-4f3c-9cb9-f53a71dd852a"
      },
      "execution_count": null,
      "outputs": [
        {
          "output_type": "stream",
          "name": "stdout",
          "text": [
            "Model: \"sequential\"\n",
            "_________________________________________________________________\n",
            " Layer (type)                Output Shape              Param #   \n",
            "=================================================================\n",
            " vgg16 (Functional)          (None, 4, 4, 512)         14714688  \n",
            "                                                                 \n",
            " flatten (Flatten)           (None, 8192)              0         \n",
            "                                                                 \n",
            " dense (Dense)               (None, 256)               2097408   \n",
            "                                                                 \n",
            " dense_1 (Dense)             (None, 1)                 257       \n",
            "                                                                 \n",
            "=================================================================\n",
            "Total params: 16,812,353\n",
            "Trainable params: 2,097,665\n",
            "Non-trainable params: 14,714,688\n",
            "_________________________________________________________________\n"
          ]
        }
      ]
    },
    {
      "cell_type": "code",
      "source": [
        "model.compile(optimizer='rmsprop',loss='binary_crossentropy',metrics=['accuracy'])"
      ],
      "metadata": {
        "id": "PhYV_A556NRG"
      },
      "execution_count": null,
      "outputs": []
    },
    {
      "cell_type": "code",
      "source": [
        "history =model.fit(\n",
        "    train_generator,\n",
        "    steps_per_epoch=len(train_generator),\n",
        "    epochs=30,\n",
        "    validation_data=validation_generator,\n",
        "    validation_steps=len(validation_generator))"
      ],
      "metadata": {
        "colab": {
          "base_uri": "https://localhost:8080/"
        },
        "id": "nbdNuAll6NY7",
        "outputId": "8bc8556c-c08e-480d-9e52-76b32a2e60fc"
      },
      "execution_count": null,
      "outputs": [
        {
          "output_type": "stream",
          "name": "stdout",
          "text": [
            "Epoch 1/30\n",
            "21/28 [=====================>........] - ETA: 7s - loss: 0.3920 - accuracy: 0.8111"
          ]
        },
        {
          "output_type": "stream",
          "name": "stderr",
          "text": [
            "/usr/local/lib/python3.9/dist-packages/PIL/TiffImagePlugin.py:819: UserWarning: Truncated File Read\n",
            "  warnings.warn(str(msg))\n"
          ]
        },
        {
          "output_type": "stream",
          "name": "stdout",
          "text": [
            "28/28 [==============================] - 33s 1s/step - loss: 0.3963 - accuracy: 0.8097 - val_loss: 0.3352 - val_accuracy: 0.8483\n",
            "Epoch 2/30\n",
            "28/28 [==============================] - 31s 1s/step - loss: 0.3806 - accuracy: 0.8229 - val_loss: 0.4901 - val_accuracy: 0.7850\n",
            "Epoch 3/30\n",
            "28/28 [==============================] - 30s 1s/step - loss: 0.3684 - accuracy: 0.8306 - val_loss: 0.4519 - val_accuracy: 0.7883\n",
            "Epoch 4/30\n",
            "28/28 [==============================] - 31s 1s/step - loss: 0.3527 - accuracy: 0.8400 - val_loss: 0.3169 - val_accuracy: 0.8667\n",
            "Epoch 5/30\n",
            "28/28 [==============================] - 33s 1s/step - loss: 0.3426 - accuracy: 0.8447 - val_loss: 0.3275 - val_accuracy: 0.8517\n",
            "Epoch 6/30\n",
            "28/28 [==============================] - 31s 1s/step - loss: 0.3325 - accuracy: 0.8465 - val_loss: 0.3844 - val_accuracy: 0.8317\n",
            "Epoch 7/30\n",
            "28/28 [==============================] - 30s 1s/step - loss: 0.3255 - accuracy: 0.8565 - val_loss: 0.3351 - val_accuracy: 0.8500\n",
            "Epoch 8/30\n",
            "28/28 [==============================] - 33s 1s/step - loss: 0.3210 - accuracy: 0.8482 - val_loss: 0.4120 - val_accuracy: 0.8183\n",
            "Epoch 9/30\n",
            "28/28 [==============================] - 30s 1s/step - loss: 0.3136 - accuracy: 0.8521 - val_loss: 0.4376 - val_accuracy: 0.8117\n",
            "Epoch 10/30\n",
            "28/28 [==============================] - 30s 1s/step - loss: 0.3067 - accuracy: 0.8629 - val_loss: 0.3203 - val_accuracy: 0.8667\n",
            "Epoch 11/30\n",
            "28/28 [==============================] - 30s 1s/step - loss: 0.2961 - accuracy: 0.8732 - val_loss: 0.3117 - val_accuracy: 0.8667\n",
            "Epoch 12/30\n",
            "28/28 [==============================] - 34s 1s/step - loss: 0.3140 - accuracy: 0.8603 - val_loss: 0.3714 - val_accuracy: 0.8233\n",
            "Epoch 13/30\n",
            "28/28 [==============================] - 31s 1s/step - loss: 0.2939 - accuracy: 0.8674 - val_loss: 0.3081 - val_accuracy: 0.8633\n",
            "Epoch 14/30\n",
            "28/28 [==============================] - 31s 1s/step - loss: 0.2873 - accuracy: 0.8724 - val_loss: 0.3346 - val_accuracy: 0.8667\n",
            "Epoch 15/30\n",
            "28/28 [==============================] - 31s 1s/step - loss: 0.2810 - accuracy: 0.8759 - val_loss: 0.3245 - val_accuracy: 0.8683\n",
            "Epoch 16/30\n",
            "28/28 [==============================] - 33s 1s/step - loss: 0.2955 - accuracy: 0.8621 - val_loss: 0.3173 - val_accuracy: 0.8700\n",
            "Epoch 17/30\n",
            "28/28 [==============================] - 30s 1s/step - loss: 0.2762 - accuracy: 0.8768 - val_loss: 0.2944 - val_accuracy: 0.8800\n",
            "Epoch 18/30\n",
            "28/28 [==============================] - 31s 1s/step - loss: 0.2784 - accuracy: 0.8738 - val_loss: 0.2914 - val_accuracy: 0.8750\n",
            "Epoch 19/30\n",
            "28/28 [==============================] - 34s 1s/step - loss: 0.2639 - accuracy: 0.8826 - val_loss: 0.3697 - val_accuracy: 0.8350\n",
            "Epoch 20/30\n",
            "28/28 [==============================] - 30s 1s/step - loss: 0.2829 - accuracy: 0.8771 - val_loss: 0.3056 - val_accuracy: 0.8633\n",
            "Epoch 21/30\n",
            "28/28 [==============================] - 30s 1s/step - loss: 0.2740 - accuracy: 0.8782 - val_loss: 0.2884 - val_accuracy: 0.8833\n",
            "Epoch 22/30\n",
            "28/28 [==============================] - 30s 1s/step - loss: 0.2663 - accuracy: 0.8800 - val_loss: 0.2951 - val_accuracy: 0.8833\n",
            "Epoch 23/30\n",
            "28/28 [==============================] - 31s 1s/step - loss: 0.2468 - accuracy: 0.8888 - val_loss: 0.3259 - val_accuracy: 0.8650\n",
            "Epoch 24/30\n",
            "28/28 [==============================] - 30s 1s/step - loss: 0.2642 - accuracy: 0.8838 - val_loss: 0.3533 - val_accuracy: 0.8617\n",
            "Epoch 25/30\n",
            "28/28 [==============================] - 32s 1s/step - loss: 0.2721 - accuracy: 0.8753 - val_loss: 0.3387 - val_accuracy: 0.8567\n",
            "Epoch 26/30\n",
            "28/28 [==============================] - 30s 1s/step - loss: 0.2497 - accuracy: 0.8944 - val_loss: 0.2993 - val_accuracy: 0.8733\n",
            "Epoch 27/30\n",
            "28/28 [==============================] - 35s 1s/step - loss: 0.2560 - accuracy: 0.8871 - val_loss: 0.4690 - val_accuracy: 0.8300\n",
            "Epoch 28/30\n",
            "28/28 [==============================] - 31s 1s/step - loss: 0.2524 - accuracy: 0.8888 - val_loss: 0.2914 - val_accuracy: 0.8867\n",
            "Epoch 29/30\n",
            "28/28 [==============================] - 31s 1s/step - loss: 0.2465 - accuracy: 0.8894 - val_loss: 0.2989 - val_accuracy: 0.8867\n",
            "Epoch 30/30\n",
            "28/28 [==============================] - 38s 1s/step - loss: 0.2471 - accuracy: 0.8871 - val_loss: 0.3635 - val_accuracy: 0.8383\n"
          ]
        }
      ]
    },
    {
      "cell_type": "code",
      "source": [
        "import matplotlib.pyplot as plt\n",
        "accuracy =history.history['accuracy']\n",
        "val_accuracy =history.history['val_accuracy']\n",
        "loss= history.history['loss']\n",
        "val_loss = history.history['val_loss']\n",
        "epochs = range(1, len(accuracy) + 1)\n",
        "\n",
        "#plot accuracy\n",
        "plt.plot(epochs, accuracy, 'bo', label= 'Training acc')\n",
        "plt.plot(epochs, val_accuracy, 'b', label='Validation acc')\n",
        "plt.title(\"Training and Validation accuracy\")\n",
        "plt.legend()\n",
        "\n",
        "#plot loss\n",
        "plt.figure()\n",
        "plt.plot(epochs, loss, 'bo', label =' Training loss')\n",
        "plt.plot(epochs, val_loss, 'b', label= 'Validation loss')\n",
        "plt.title(\"Training and Validation loss\")\n",
        "plt.legend()\n",
        "plt.show()"
      ],
      "metadata": {
        "colab": {
          "base_uri": "https://localhost:8080/",
          "height": 545
        },
        "id": "WwlxHShK6Nc9",
        "outputId": "f3085034-0699-493e-e34a-5dde2b0f51da"
      },
      "execution_count": null,
      "outputs": [
        {
          "output_type": "display_data",
          "data": {
            "text/plain": [
              "<Figure size 432x288 with 1 Axes>"
            ],
            "image/png": "[encoded data removed]"
          },
          "metadata": {
            "needs_background": "light"
          }
        },
        {
          "output_type": "display_data",
          "data": {
            "text/plain": [
              "<Figure size 432x288 with 1 Axes>"
            ],
            "image/png": "[encoded data removed]"
          },
          "metadata": {
            "needs_background": "light"
          }
        }
      ]
    },
    {
      "cell_type": "code",
      "source": [
        "conv_base.summary()"
      ],
      "metadata": {
        "colab": {
          "base_uri": "https://localhost:8080/"
        },
        "id": "_tJ0E_4aIdj-",
        "outputId": "5a49f9bf-928c-49ce-935a-7de9c2f1fdfa"
      },
      "execution_count": null,
      "outputs": [
        {
          "output_type": "stream",
          "name": "stdout",
          "text": [
            "Model: \"vgg16\"\n",
            "_________________________________________________________________\n",
            " Layer (type)                Output Shape              Param #   \n",
            "=================================================================\n",
            " input_1 (InputLayer)        [(None, 128, 128, 3)]     0         \n",
            "                                                                 \n",
            " block1_conv1 (Conv2D)       (None, 128, 128, 64)      1792      \n",
            "                                                                 \n",
            " block1_conv2 (Conv2D)       (None, 128, 128, 64)      36928     \n",
            "                                                                 \n",
            " block1_pool (MaxPooling2D)  (None, 64, 64, 64)        0         \n",
            "                                                                 \n",
            " block2_conv1 (Conv2D)       (None, 64, 64, 128)       73856     \n",
            "                                                                 \n",
            " block2_conv2 (Conv2D)       (None, 64, 64, 128)       147584    \n",
            "                                                                 \n",
            " block2_pool (MaxPooling2D)  (None, 32, 32, 128)       0         \n",
            "                                                                 \n",
            " block3_conv1 (Conv2D)       (None, 32, 32, 256)       295168    \n",
            "                                                                 \n",
            " block3_conv2 (Conv2D)       (None, 32, 32, 256)       590080    \n",
            "                                                                 \n",
            " block3_conv3 (Conv2D)       (None, 32, 32, 256)       590080    \n",
            "                                                                 \n",
            " block3_pool (MaxPooling2D)  (None, 16, 16, 256)       0         \n",
            "                                                                 \n",
            " block4_conv1 (Conv2D)       (None, 16, 16, 512)       1180160   \n",
            "                                                                 \n",
            " block4_conv2 (Conv2D)       (None, 16, 16, 512)       2359808   \n",
            "                                                                 \n",
            " block4_conv3 (Conv2D)       (None, 16, 16, 512)       2359808   \n",
            "                                                                 \n",
            " block4_pool (MaxPooling2D)  (None, 8, 8, 512)         0         \n",
            "                                                                 \n",
            " block5_conv1 (Conv2D)       (None, 8, 8, 512)         2359808   \n",
            "                                                                 \n",
            " block5_conv2 (Conv2D)       (None, 8, 8, 512)         2359808   \n",
            "                                                                 \n",
            " block5_conv3 (Conv2D)       (None, 8, 8, 512)         2359808   \n",
            "                                                                 \n",
            " block5_pool (MaxPooling2D)  (None, 4, 4, 512)         0         \n",
            "                                                                 \n",
            "=================================================================\n",
            "Total params: 14,714,688\n",
            "Trainable params: 0\n",
            "Non-trainable params: 14,714,688\n",
            "_________________________________________________________________\n"
          ]
        }
      ]
    },
    {
      "cell_type": "markdown",
      "source": [
        "Pre_trained_fine_running"
      ],
      "metadata": {
        "id": "n_z2DJzLK7wU"
      }
    },
    {
      "cell_type": "code",
      "source": [
        "from keras.preprocessing.image import ImageDataGenerator\n",
        "train_augmentation= ImageDataGenerator(\n",
        "    rescale=1./255,\n",
        "    rotation_range=0.2,\n",
        "    width_shift_range=0.2,\n",
        "    height_shift_range=0.2,\n",
        "    zoom_range=0.2,\n",
        "    horizontal_flip= True,\n",
        ")\n"
      ],
      "metadata": {
        "id": "1sx9PEzjIfOS"
      },
      "execution_count": null,
      "outputs": []
    },
    {
      "cell_type": "code",
      "source": [
        "train_generator = train_augmentation.flow_from_directory(\n",
        "    directory = \"/content/drive/MyDrive/assignment 3 Cs512/Train\",\n",
        "    target_size=(128,128),\n",
        "    batch_size=125,\n",
        "    class_mode='binary')\n"
      ],
      "metadata": {
        "colab": {
          "base_uri": "https://localhost:8080/"
        },
        "id": "n9c6BA-VIfTO",
        "outputId": "48c4c391-6282-4837-85da-e4ed81b5273d"
      },
      "execution_count": null,
      "outputs": [
        {
          "output_type": "stream",
          "name": "stdout",
          "text": [
            "Found 3400 images belonging to 2 classes.\n"
          ]
        }
      ]
    },
    {
      "cell_type": "code",
      "source": [
        "validation_augmentation= ImageDataGenerator(\n",
        "    rescale=1./255\n",
        ")\n"
      ],
      "metadata": {
        "id": "_k_m5FWUIfXl"
      },
      "execution_count": null,
      "outputs": []
    },
    {
      "cell_type": "code",
      "source": [
        "validation_generator = validation_augmentation.flow_from_directory(\n",
        "    directory = \"/content/drive/MyDrive/assignment 3 Cs512/validation\",\n",
        "    target_size=(128,128),\n",
        "    batch_size=125,\n",
        "    class_mode='binary')"
      ],
      "metadata": {
        "colab": {
          "base_uri": "https://localhost:8080/"
        },
        "id": "Eg98tgqhLV_f",
        "outputId": "520e3fe8-2ac1-47eb-b14a-5dae86155288"
      },
      "execution_count": null,
      "outputs": [
        {
          "output_type": "stream",
          "name": "stdout",
          "text": [
            "Found 600 images belonging to 2 classes.\n"
          ]
        }
      ]
    },
    {
      "cell_type": "code",
      "source": [
        "conv_base= VGG16(input_shape=(128,128,3),include_top=False,weights='imagenet')"
      ],
      "metadata": {
        "id": "BavK-03GLgoe"
      },
      "execution_count": null,
      "outputs": []
    },
    {
      "cell_type": "code",
      "source": [
        "conv_base.summary()"
      ],
      "metadata": {
        "colab": {
          "base_uri": "https://localhost:8080/"
        },
        "id": "q3oYEL_SLgxz",
        "outputId": "08295a7c-4424-4eef-e0e2-8ffb05f2a0e7"
      },
      "execution_count": null,
      "outputs": [
        {
          "output_type": "stream",
          "name": "stdout",
          "text": [
            "Model: \"vgg16\"\n",
            "_________________________________________________________________\n",
            " Layer (type)                Output Shape              Param #   \n",
            "=================================================================\n",
            " input_2 (InputLayer)        [(None, 128, 128, 3)]     0         \n",
            "                                                                 \n",
            " block1_conv1 (Conv2D)       (None, 128, 128, 64)      1792      \n",
            "                                                                 \n",
            " block1_conv2 (Conv2D)       (None, 128, 128, 64)      36928     \n",
            "                                                                 \n",
            " block1_pool (MaxPooling2D)  (None, 64, 64, 64)        0         \n",
            "                                                                 \n",
            " block2_conv1 (Conv2D)       (None, 64, 64, 128)       73856     \n",
            "                                                                 \n",
            " block2_conv2 (Conv2D)       (None, 64, 64, 128)       147584    \n",
            "                                                                 \n",
            " block2_pool (MaxPooling2D)  (None, 32, 32, 128)       0         \n",
            "                                                                 \n",
            " block3_conv1 (Conv2D)       (None, 32, 32, 256)       295168    \n",
            "                                                                 \n",
            " block3_conv2 (Conv2D)       (None, 32, 32, 256)       590080    \n",
            "                                                                 \n",
            " block3_conv3 (Conv2D)       (None, 32, 32, 256)       590080    \n",
            "                                                                 \n",
            " block3_pool (MaxPooling2D)  (None, 16, 16, 256)       0         \n",
            "                                                                 \n",
            " block4_conv1 (Conv2D)       (None, 16, 16, 512)       1180160   \n",
            "                                                                 \n",
            " block4_conv2 (Conv2D)       (None, 16, 16, 512)       2359808   \n",
            "                                                                 \n",
            " block4_conv3 (Conv2D)       (None, 16, 16, 512)       2359808   \n",
            "                                                                 \n",
            " block4_pool (MaxPooling2D)  (None, 8, 8, 512)         0         \n",
            "                                                                 \n",
            " block5_conv1 (Conv2D)       (None, 8, 8, 512)         2359808   \n",
            "                                                                 \n",
            " block5_conv2 (Conv2D)       (None, 8, 8, 512)         2359808   \n",
            "                                                                 \n",
            " block5_conv3 (Conv2D)       (None, 8, 8, 512)         2359808   \n",
            "                                                                 \n",
            " block5_pool (MaxPooling2D)  (None, 4, 4, 512)         0         \n",
            "                                                                 \n",
            "=================================================================\n",
            "Total params: 14,714,688\n",
            "Trainable params: 14,714,688\n",
            "Non-trainable params: 0\n",
            "_________________________________________________________________\n"
          ]
        }
      ]
    },
    {
      "cell_type": "code",
      "source": [
        "model = Sequential()\n",
        "model.add(conv_base)\n",
        "model.add(layers.Flatten())\n",
        "model.add(layers.Dense(256, activation='relu'))\n",
        "model.add(layers.Dense(1, activation= 'sigmoid'))"
      ],
      "metadata": {
        "id": "8cVSa8BWLg2q"
      },
      "execution_count": null,
      "outputs": []
    },
    {
      "cell_type": "code",
      "source": [
        "model.summary()"
      ],
      "metadata": {
        "colab": {
          "base_uri": "https://localhost:8080/"
        },
        "id": "dr0OtdMoLg8a",
        "outputId": "23d403f4-8d21-468d-a80a-0c509b528c10"
      },
      "execution_count": null,
      "outputs": [
        {
          "output_type": "stream",
          "name": "stdout",
          "text": [
            "Model: \"sequential_1\"\n",
            "_________________________________________________________________\n",
            " Layer (type)                Output Shape              Param #   \n",
            "=================================================================\n",
            " vgg16 (Functional)          (None, 4, 4, 512)         14714688  \n",
            "                                                                 \n",
            " flatten_1 (Flatten)         (None, 8192)              0         \n",
            "                                                                 \n",
            " dense_2 (Dense)             (None, 256)               2097408   \n",
            "                                                                 \n",
            " dense_3 (Dense)             (None, 1)                 257       \n",
            "                                                                 \n",
            "=================================================================\n",
            "Total params: 16,812,353\n",
            "Trainable params: 16,812,353\n",
            "Non-trainable params: 0\n",
            "_________________________________________________________________\n"
          ]
        }
      ]
    },
    {
      "cell_type": "code",
      "source": [
        "conv_base.trainable = True\n",
        "set_trainable= False\n",
        "\n",
        "for layer in conv_base.layers:\n",
        "  if layer.name =='block5_conv1':\n",
        "    set_trainable = True\n",
        "  if set_trainable:\n",
        "    layer.trainable = True\n",
        "  else:\n",
        "    layer.trainable = False"
      ],
      "metadata": {
        "id": "t6W0Wm4ANqsQ"
      },
      "execution_count": null,
      "outputs": []
    },
    {
      "cell_type": "code",
      "source": [
        "model.compile(optimizer ='rmsprop',loss='binary_crossentropy', metrics=['accuracy'])"
      ],
      "metadata": {
        "id": "O-jPxXm-OSvL"
      },
      "execution_count": null,
      "outputs": []
    },
    {
      "cell_type": "code",
      "source": [
        "history =model.fit(\n",
        "    train_generator,\n",
        "    steps_per_epoch=len(train_generator),\n",
        "    epochs=30,\n",
        "    validation_data=validation_generator,\n",
        "    validation_steps=len(validation_generator))"
      ],
      "metadata": {
        "colab": {
          "base_uri": "https://localhost:8080/"
        },
        "id": "Ni9tAqvxOnAC",
        "outputId": "2571f0ed-ebe6-4d0f-c616-2fdce46e0622"
      },
      "execution_count": null,
      "outputs": [
        {
          "output_type": "stream",
          "name": "stdout",
          "text": [
            "Epoch 1/30\n",
            " 9/28 [========>.....................] - ETA: 16s - loss: 33.0363 - accuracy: 0.5067"
          ]
        },
        {
          "output_type": "stream",
          "name": "stderr",
          "text": [
            "/usr/local/lib/python3.9/dist-packages/PIL/TiffImagePlugin.py:819: UserWarning: Truncated File Read\n",
            "  warnings.warn(str(msg))\n"
          ]
        },
        {
          "output_type": "stream",
          "name": "stdout",
          "text": [
            "28/28 [==============================] - 33s 1s/step - loss: 11.3966 - accuracy: 0.4985 - val_loss: 0.6932 - val_accuracy: 0.5000\n",
            "Epoch 2/30\n",
            "28/28 [==============================] - 30s 1s/step - loss: 0.6992 - accuracy: 0.5062 - val_loss: 0.6931 - val_accuracy: 0.5017\n",
            "Epoch 3/30\n",
            "28/28 [==============================] - 30s 1s/step - loss: 0.6932 - accuracy: 0.4959 - val_loss: 0.6931 - val_accuracy: 0.5017\n",
            "Epoch 4/30\n",
            "28/28 [==============================] - 30s 1s/step - loss: 0.6932 - accuracy: 0.4950 - val_loss: 0.6932 - val_accuracy: 0.5000\n",
            "Epoch 5/30\n",
            "28/28 [==============================] - 30s 1s/step - loss: 0.6932 - accuracy: 0.4938 - val_loss: 0.6931 - val_accuracy: 0.5000\n",
            "Epoch 6/30\n",
            "28/28 [==============================] - 32s 1s/step - loss: 0.6932 - accuracy: 0.5000 - val_loss: 0.6932 - val_accuracy: 0.5000\n",
            "Epoch 7/30\n",
            "28/28 [==============================] - 32s 1s/step - loss: 0.6932 - accuracy: 0.4953 - val_loss: 0.6931 - val_accuracy: 0.5000\n",
            "Epoch 8/30\n",
            "28/28 [==============================] - 30s 1s/step - loss: 0.6932 - accuracy: 0.5000 - val_loss: 0.6931 - val_accuracy: 0.5000\n",
            "Epoch 9/30\n",
            "28/28 [==============================] - 30s 1s/step - loss: 0.6932 - accuracy: 0.4959 - val_loss: 0.6931 - val_accuracy: 0.5000\n",
            "Epoch 10/30\n",
            "28/28 [==============================] - 30s 1s/step - loss: 0.6932 - accuracy: 0.4985 - val_loss: 0.6931 - val_accuracy: 0.5000\n",
            "Epoch 11/30\n",
            "28/28 [==============================] - 32s 1s/step - loss: 0.6932 - accuracy: 0.4906 - val_loss: 0.6931 - val_accuracy: 0.5000\n",
            "Epoch 12/30\n",
            "28/28 [==============================] - 30s 1s/step - loss: 0.6932 - accuracy: 0.4944 - val_loss: 0.6931 - val_accuracy: 0.5000\n",
            "Epoch 13/30\n",
            "28/28 [==============================] - 30s 1s/step - loss: 0.6932 - accuracy: 0.5000 - val_loss: 0.6931 - val_accuracy: 0.5000\n",
            "Epoch 14/30\n",
            "28/28 [==============================] - 29s 1s/step - loss: 0.6932 - accuracy: 0.4947 - val_loss: 0.6931 - val_accuracy: 0.5000\n",
            "Epoch 15/30\n",
            "28/28 [==============================] - 30s 1s/step - loss: 0.6932 - accuracy: 0.4829 - val_loss: 0.6931 - val_accuracy: 0.5000\n",
            "Epoch 16/30\n",
            "28/28 [==============================] - 30s 1s/step - loss: 0.6932 - accuracy: 0.4900 - val_loss: 0.6931 - val_accuracy: 0.5000\n",
            "Epoch 17/30\n",
            "28/28 [==============================] - 30s 1s/step - loss: 0.6932 - accuracy: 0.4968 - val_loss: 0.6931 - val_accuracy: 0.5000\n",
            "Epoch 18/30\n",
            "28/28 [==============================] - 30s 1s/step - loss: 0.6932 - accuracy: 0.4947 - val_loss: 0.6931 - val_accuracy: 0.5000\n",
            "Epoch 19/30\n",
            "28/28 [==============================] - 30s 1s/step - loss: 0.6932 - accuracy: 0.4924 - val_loss: 0.6931 - val_accuracy: 0.5000\n",
            "Epoch 20/30\n",
            "28/28 [==============================] - 30s 1s/step - loss: 0.6932 - accuracy: 0.4856 - val_loss: 0.6931 - val_accuracy: 0.5000\n",
            "Epoch 21/30\n",
            "28/28 [==============================] - 29s 1s/step - loss: 0.6932 - accuracy: 0.4953 - val_loss: 0.6931 - val_accuracy: 0.5000\n",
            "Epoch 22/30\n",
            "28/28 [==============================] - 31s 1s/step - loss: 0.6932 - accuracy: 0.4932 - val_loss: 0.6931 - val_accuracy: 0.5000\n",
            "Epoch 23/30\n",
            "28/28 [==============================] - 30s 1s/step - loss: 0.6932 - accuracy: 0.4859 - val_loss: 0.6931 - val_accuracy: 0.5000\n",
            "Epoch 24/30\n",
            "28/28 [==============================] - 30s 1s/step - loss: 0.6932 - accuracy: 0.4894 - val_loss: 0.6931 - val_accuracy: 0.5000\n",
            "Epoch 25/30\n",
            "28/28 [==============================] - 29s 1s/step - loss: 0.6932 - accuracy: 0.4974 - val_loss: 0.6931 - val_accuracy: 0.5000\n",
            "Epoch 26/30\n",
            "28/28 [==============================] - 29s 1s/step - loss: 0.6932 - accuracy: 0.4959 - val_loss: 0.6931 - val_accuracy: 0.5000\n",
            "Epoch 27/30\n",
            "28/28 [==============================] - 30s 1s/step - loss: 0.6932 - accuracy: 0.4915 - val_loss: 0.6931 - val_accuracy: 0.5000\n",
            "Epoch 28/30\n",
            "28/28 [==============================] - 30s 1s/step - loss: 0.6932 - accuracy: 0.4938 - val_loss: 0.6931 - val_accuracy: 0.5000\n",
            "Epoch 29/30\n",
            "28/28 [==============================] - 30s 1s/step - loss: 0.6932 - accuracy: 0.4988 - val_loss: 0.6931 - val_accuracy: 0.5000\n",
            "Epoch 30/30\n",
            "28/28 [==============================] - 29s 1s/step - loss: 0.6932 - accuracy: 0.4924 - val_loss: 0.6931 - val_accuracy: 0.5000\n"
          ]
        }
      ]
    },
    {
      "cell_type": "code",
      "source": [
        "import matplotlib.pyplot as plt\n",
        "accuracy =history.history['accuracy']\n",
        "val_accuracy =history.history['val_accuracy']\n",
        "loss= history.history['loss']\n",
        "val_loss = history.history['val_loss']\n",
        "epochs = range(1, len(accuracy) + 1)\n",
        "\n",
        "#plot accuracy\n",
        "plt.plot(epochs, accuracy, 'bo', label= 'Training acc')\n",
        "plt.plot(epochs, val_accuracy, 'b', label='Validation acc')\n",
        "plt.title(\"Training and Validation accuracy\")\n",
        "plt.legend()\n",
        "\n",
        "#plot loss\n",
        "plt.figure()\n",
        "plt.plot(epochs, loss, 'bo', label =' Training loss')\n",
        "plt.plot(epochs, val_loss, 'b', label= 'Validation loss')\n",
        "plt.title(\"Training and Validation loss\")\n",
        "plt.legend()\n",
        "plt.show()"
      ],
      "metadata": {
        "colab": {
          "base_uri": "https://localhost:8080/",
          "height": 545
        },
        "id": "yAhyxKtRS10j",
        "outputId": "93c701ca-1e95-44a5-b6da-4a908db5afc7"
      },
      "execution_count": null,
      "outputs": [
        {
          "output_type": "display_data",
          "data": {
            "text/plain": [
              "<Figure size 432x288 with 1 Axes>"
            ],
            "image/png": "[encoded data removed]"
          },
          "metadata": {
            "needs_background": "light"
          }
        },
        {
          "output_type": "display_data",
          "data": {
            "text/plain": [
              "<Figure size 432x288 with 1 Axes>"
            ],
            "image/png": "[encoded data removed]"
          },
          "metadata": {
            "needs_background": "light"
          }
        }
      ]
    }
  ],
  "metadata": {
    "colab": {
      "provenance": [],
      "include_colab_link": true
    },
    "kernelspec": {
      "display_name": "Python 3",
      "name": "python3"
    },
    "accelerator": "GPU",
    "gpuClass": "standard"
  },
  "nbformat": 4,
  "nbformat_minor": 0
}