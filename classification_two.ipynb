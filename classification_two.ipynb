{
  "nbformat": 4,
  "nbformat_minor": 0,
  "metadata": {
    "colab": {
      "provenance": [],
      "include_colab_link": true
    },
    "kernelspec": {
      "name": "python3",
      "display_name": "Python 3"
    },
    "language_info": {
      "name": "python"
    }
  },
  "cells": [
    {
      "cell_type": "markdown",
      "metadata": {
        "id": "view-in-github",
        "colab_type": "text"
      },
      "source": [
        "<a href=\"https://colab.research.google.com/github/Shosh3sb/computer_vision_512/blob/main/classification_two.ipynb\" target=\"_parent\"><img src=\"https://colab.research.google.com/assets/colab-badge.svg\" alt=\"Open In Colab\"/></a>"
      ]
    },
    {
      "cell_type": "markdown",
      "source": [
        "Classification two:\n",
        "A."
      ],
      "metadata": {
        "id": "doshIMyT9Ilf"
      }
    },
    {
      "cell_type": "code",
      "execution_count": null,
      "metadata": {
        "id": "uchZh0oR9FtT"
      },
      "outputs": [],
      "source": [
        "import tensorflow as tr"
      ]
    },
    {
      "cell_type": "code",
      "source": [
        "import numpy as np\n",
        "import tensorflow as tf\n",
        "from tensorflow import keras\n",
        "from tensorflow.keras import layers\n",
        "\n",
        "# Load  dataset\n",
        "(x_train, y_train), (x_test, y_test) = keras.datasets.cifar10.load_data()\n",
        "\n"
      ],
      "metadata": {
        "colab": {
          "base_uri": "https://localhost:8080/"
        },
        "id": "U7O2nG-M9M_z",
        "outputId": "979e6f6e-781f-4cf8-cf76-cd2fa5ac3155"
      },
      "execution_count": null,
      "outputs": [
        {
          "output_type": "stream",
          "name": "stdout",
          "text": [
            "Downloading data from https://www.cs.toronto.edu/~kriz/cifar-10-python.tar.gz\n",
            "170498071/170498071 [==============================] - 52s 0us/step\n"
          ]
        }
      ]
    },
    {
      "cell_type": "code",
      "source": [
        "print('x_train shape',x_train.shape)\n",
        "print('y_train shape'y_train.shape)\n",
        "print('x_test shape'x_test.shape)\n",
        "print('y_test shape'y_test.shape)"
      ],
      "metadata": {
        "id": "77YE-gAR-NxL"
      },
      "execution_count": null,
      "outputs": []
    },
    {
      "cell_type": "code",
      "source": [
        "# Normalize pixel between 0 and 1\n",
        "x_train = x_train.astype(\"float32\") / 255\n",
        "x_test = x_test.astype(\"float32\") / 255\n",
        "\n",
        "# Convert labels_to_one_hot encoding\n",
        "num_classes = 10\n",
        "y_train = keras.utils.to_categorical(y_train, num_classes)\n",
        "y_test = keras.utils.to_categorical(y_test, num_classes)\n",
        "\n"
      ],
      "metadata": {
        "id": "xP681oLw9NCx"
      },
      "execution_count": null,
      "outputs": []
    },
    {
      "cell_type": "code",
      "source": [
        "\n",
        "# model\n",
        "model = keras.Sequential(\n",
        "    [\n",
        "        layers.Conv2D(32, (3, 3), activation=\"relu\", input_shape=(32, 32, 3)),\n",
        "        layers.MaxPooling2D(pool_size=(2, 2)),\n",
        "\n",
        "        layers.Conv2D(64, (3, 3), activation=\"relu\"),\n",
        "        layers.MaxPooling2D(pool_size=(2, 2)),\n",
        "\n",
        "        layers.Conv2D(128, (3, 3), activation=\"relu\"),\n",
        "        layers.MaxPooling2D(pool_size=(2, 2)),\n",
        "    #flatten\n",
        "        layers.Flatten(),\n",
        "    #fully conected layer\n",
        "        layers.Dense(num_classes, activation=\"softmax\"),\n",
        "    ]\n",
        ")\n",
        "\n"
      ],
      "metadata": {
        "id": "cJ7WzUVz9NHp"
      },
      "execution_count": null,
      "outputs": []
    },
    {
      "cell_type": "code",
      "source": [
        "# Compile the model\n",
        "model.compile(loss=\"categorical_crossentropy\", optimizer=\"adam\", metrics=[\"accuracy\"])\n"
      ],
      "metadata": {
        "id": "LhSwb39x9NLj"
      },
      "execution_count": null,
      "outputs": []
    },
    {
      "cell_type": "code",
      "source": [
        "# fit the model\n",
        "batch_size = 64\n",
        "epochs = 10\n",
        "model.fit(x_train, y_train, batch_size=batch_size, epochs=epochs, validation_split=0.1)\n",
        "\n"
      ],
      "metadata": {
        "colab": {
          "base_uri": "https://localhost:8080/"
        },
        "id": "1j9NNJ9F9NO6",
        "outputId": "f234d58b-c7fd-4745-9188-ba7f8a3cbfe7"
      },
      "execution_count": null,
      "outputs": [
        {
          "output_type": "stream",
          "name": "stdout",
          "text": [
            "Epoch 1/10\n",
            "704/704 [==============================] - 51s 72ms/step - loss: 1.5978 - accuracy: 0.4188 - val_loss: 1.3373 - val_accuracy: 0.5222\n",
            "Epoch 2/10\n",
            "704/704 [==============================] - 51s 73ms/step - loss: 1.2396 - accuracy: 0.5659 - val_loss: 1.1189 - val_accuracy: 0.6134\n",
            "Epoch 3/10\n",
            "704/704 [==============================] - 51s 72ms/step - loss: 1.0839 - accuracy: 0.6240 - val_loss: 1.0533 - val_accuracy: 0.6382\n",
            "Epoch 4/10\n",
            "704/704 [==============================] - 53s 75ms/step - loss: 0.9796 - accuracy: 0.6624 - val_loss: 0.9925 - val_accuracy: 0.6544\n",
            "Epoch 5/10\n",
            "704/704 [==============================] - 53s 75ms/step - loss: 0.9053 - accuracy: 0.6903 - val_loss: 0.9761 - val_accuracy: 0.6640\n",
            "Epoch 6/10\n",
            "704/704 [==============================] - 50s 71ms/step - loss: 0.8463 - accuracy: 0.7100 - val_loss: 0.9639 - val_accuracy: 0.6702\n",
            "Epoch 7/10\n",
            "704/704 [==============================] - 50s 71ms/step - loss: 0.7915 - accuracy: 0.7285 - val_loss: 0.8860 - val_accuracy: 0.7020\n",
            "Epoch 8/10\n",
            "704/704 [==============================] - 50s 71ms/step - loss: 0.7460 - accuracy: 0.7460 - val_loss: 0.8936 - val_accuracy: 0.6990\n",
            "Epoch 9/10\n",
            "704/704 [==============================] - 51s 72ms/step - loss: 0.7004 - accuracy: 0.7606 - val_loss: 0.9015 - val_accuracy: 0.7014\n",
            "Epoch 10/10\n",
            "704/704 [==============================] - 52s 73ms/step - loss: 0.6639 - accuracy: 0.7729 - val_loss: 0.8747 - val_accuracy: 0.7072\n"
          ]
        },
        {
          "output_type": "execute_result",
          "data": {
            "text/plain": [
              "<keras.callbacks.History at 0x7f60dd58d880>"
            ]
          },
          "metadata": {},
          "execution_count": 15
        }
      ]
    },
    {
      "cell_type": "code",
      "source": [
        "# test the model on the test set\n",
        "result = model.evaluate(x_test, y_test, verbose=0)\n",
        "print(\"Test loss:\", result[0])\n",
        "print(\"Test accuracy:\", result[1])"
      ],
      "metadata": {
        "colab": {
          "base_uri": "https://localhost:8080/"
        },
        "id": "zR6MMcVq9NRz",
        "outputId": "5e4d3f43-f7ae-49e6-8a6c-a6ac898cec17"
      },
      "execution_count": null,
      "outputs": [
        {
          "output_type": "stream",
          "name": "stdout",
          "text": [
            "Test loss: 0.915831446647644\n",
            "Test accuracy: 0.6909000277519226\n"
          ]
        }
      ]
    },
    {
      "cell_type": "markdown",
      "source": [
        "B. Replace the convolution blocks with inception blocks and test performance"
      ],
      "metadata": {
        "id": "SyjA2TmRBVxR"
      }
    },
    {
      "cell_type": "code",
      "source": [
        "# Define Inception block\n",
        "def inception_block(inputs, filters):\n",
        "    path1 = layers.Conv2D(filters=filters[0], kernel_size=1, activation='relu')(inputs)\n",
        "    path1 = layers.Conv2D(filters=filters[1], kernel_size=3, padding='same', activation='relu')(path1)\n",
        "\n",
        "    path2 = layers.Conv2D(filters=filters[2], kernel_size=1, activation='relu')(inputs)\n",
        "    path2 = layers.Conv2D(filters=filters[3], kernel_size=5, padding='same', activation='relu')(path2)\n",
        "\n",
        "    path3 = layers.MaxPooling2D(pool_size=(3,3), strides=(1,1), padding='same')(inputs)\n",
        "    path3 = layers.Conv2D(filters=filters[4], kernel_size=1, activation='relu')(path3)\n",
        "\n",
        "    output = layers.concatenate([path1, path2, path3], axis=-1)\n",
        "    return output\n",
        "\n"
      ],
      "metadata": {
        "id": "RwHNfytwBaoa"
      },
      "execution_count": null,
      "outputs": []
    },
    {
      "cell_type": "code",
      "source": [
        "# Load CIFAR-10 dataset\n",
        "(x_train, y_train), (x_test, y_test) = keras.datasets.cifar10.load_data()"
      ],
      "metadata": {
        "id": "ymORgFkvBar8"
      },
      "execution_count": null,
      "outputs": []
    },
    {
      "cell_type": "code",
      "source": [
        "# Normalize pixel values to be between 0 and 1\n",
        "x_train = x_train.astype(\"float32\") / 255\n",
        "x_test = x_test.astype(\"float32\") / 255\n",
        "\n",
        "# Convert labels to one-hot encoding\n",
        "num_classes = 10\n",
        "y_train = keras.utils.to_categorical(y_train, num_classes)\n",
        "y_test = keras.utils.to_categorical(y_test, num_classes)\n",
        "\n"
      ],
      "metadata": {
        "id": "GO3EAfz7BavE"
      },
      "execution_count": null,
      "outputs": []
    },
    {
      "cell_type": "code",
      "source": [
        "# Define the CNN architecture with Inception blocks\n",
        "inputs = keras.Input(shape=(32, 32, 3))\n",
        "\n",
        "x = layers.Conv2D(filters=32, kernel_size=3, activation='relu')(inputs)\n",
        "x = layers.Conv2D(filters=64, kernel_size=3, activation='relu')(x)\n",
        "x = layers.MaxPooling2D(pool_size=(2, 2))(x)\n",
        "\n",
        "x = inception_block(x, [16, 24, 32, 4, 8])\n",
        "x = inception_block(x, [32, 32, 48, 8, 16])\n",
        "x = layers.MaxPooling2D(pool_size=(2, 2))(x)\n",
        "\n",
        "x = inception_block(x, [48, 64, 64, 16, 32])\n",
        "x = inception_block(x, [64, 64, 96, 24, 48])\n",
        "x = layers.GlobalAveragePooling2D()(x)\n",
        "\n",
        "outputs = layers.Dense(num_classes, activation=\"softmax\")(x)\n",
        "\n",
        "model = keras.Model(inputs=inputs, outputs=outputs)\n",
        "\n"
      ],
      "metadata": {
        "id": "dcTLCSBmB1I6"
      },
      "execution_count": null,
      "outputs": []
    },
    {
      "cell_type": "code",
      "source": [
        "# Compile the model\n",
        "model.compile(loss=\"categorical_crossentropy\", optimizer=\"adam\", metrics=[\"accuracy\"])\n",
        "\n"
      ],
      "metadata": {
        "id": "2iJX014BB63H"
      },
      "execution_count": null,
      "outputs": []
    },
    {
      "cell_type": "code",
      "source": [
        "# Train the model\n",
        "batch_size = 64\n",
        "epochs = 10\n",
        "model.fit(x_train, y_train, batch_size=batch_size, epochs=epochs, validation_split=0.1)"
      ],
      "metadata": {
        "colab": {
          "base_uri": "https://localhost:8080/"
        },
        "id": "FV3D1hx_B87T",
        "outputId": "ef0b3cf6-5241-4763-f727-4ad34b36cdb4"
      },
      "execution_count": null,
      "outputs": [
        {
          "output_type": "stream",
          "name": "stdout",
          "text": [
            "Epoch 1/10\n",
            "704/704 [==============================] - 318s 446ms/step - loss: 1.7340 - accuracy: 0.3406 - val_loss: 1.5537 - val_accuracy: 0.4390\n",
            "Epoch 2/10\n",
            "704/704 [==============================] - 310s 440ms/step - loss: 1.3254 - accuracy: 0.5162 - val_loss: 1.1964 - val_accuracy: 0.5690\n",
            "Epoch 3/10\n",
            "704/704 [==============================] - 312s 443ms/step - loss: 1.1278 - accuracy: 0.5940 - val_loss: 0.9918 - val_accuracy: 0.6510\n",
            "Epoch 4/10\n",
            "704/704 [==============================] - 308s 437ms/step - loss: 0.9829 - accuracy: 0.6502 - val_loss: 1.0014 - val_accuracy: 0.6464\n",
            "Epoch 5/10\n",
            "704/704 [==============================] - 312s 444ms/step - loss: 0.8863 - accuracy: 0.6867 - val_loss: 0.8518 - val_accuracy: 0.7036\n",
            "Epoch 6/10\n",
            "704/704 [==============================] - 310s 440ms/step - loss: 0.8087 - accuracy: 0.7154 - val_loss: 0.8323 - val_accuracy: 0.7082\n",
            "Epoch 7/10\n",
            "704/704 [==============================] - 311s 442ms/step - loss: 0.7453 - accuracy: 0.7364 - val_loss: 0.7369 - val_accuracy: 0.7454\n",
            "Epoch 8/10\n",
            "704/704 [==============================] - 318s 452ms/step - loss: 0.6982 - accuracy: 0.7545 - val_loss: 0.7222 - val_accuracy: 0.7516\n",
            "Epoch 9/10\n",
            "704/704 [==============================] - 318s 451ms/step - loss: 0.6545 - accuracy: 0.7709 - val_loss: 0.7209 - val_accuracy: 0.7604\n",
            "Epoch 10/10\n",
            "704/704 [==============================] - 315s 448ms/step - loss: 0.6174 - accuracy: 0.7837 - val_loss: 0.6777 - val_accuracy: 0.7632\n"
          ]
        },
        {
          "output_type": "execute_result",
          "data": {
            "text/plain": [
              "<keras.callbacks.History at 0x7f60de302310>"
            ]
          },
          "metadata": {},
          "execution_count": 24
        }
      ]
    },
    {
      "cell_type": "code",
      "source": [
        "# Evaluate the model on the test set\n",
        "result = model.evaluate(x_test, y_test, verbose=0)\n",
        "print(\"Test loss:\", result[0])\n",
        "print(\"Test accuracy:\", result[1])"
      ],
      "metadata": {
        "colab": {
          "base_uri": "https://localhost:8080/"
        },
        "id": "TqtbpCzAB-zc",
        "outputId": "1a47f7d3-0d56-4fef-cf06-e777b78e7717"
      },
      "execution_count": null,
      "outputs": [
        {
          "output_type": "stream",
          "name": "stdout",
          "text": [
            "Test loss: 0.7191810607910156\n",
            "Test accuracy: 0.7476999759674072\n"
          ]
        }
      ]
    },
    {
      "cell_type": "code",
      "source": [],
      "metadata": {
        "id": "n3aYkyzQRIJ3"
      },
      "execution_count": null,
      "outputs": []
    },
    {
      "cell_type": "markdown",
      "source": [
        "C. Replace the inception blocks with residual blocks and test performance."
      ],
      "metadata": {
        "id": "lWrvlon2DQaa"
      }
    },
    {
      "cell_type": "code",
      "source": [
        "# Define Residual block\n",
        "class ResidualBlock(layers.Layer):\n",
        "    def __init__(self, filters, strides=1, activation=\"relu\", **kwargs):\n",
        "        super(ResidualBlock, self).__init__(**kwargs)\n",
        "        self.filters = filters\n",
        "        self.strides = strides\n",
        "        self.activation = activation\n",
        "\n",
        "        self.conv1 = layers.Conv2D(\n",
        "            filters, kernel_size=3, strides=strides, padding=\"same\", use_bias=False\n",
        "        )\n",
        "        self.bn1 = layers.BatchNormalization()\n",
        "        self.relu = layers.Activation(activation)\n",
        "        self.conv2 = layers.Conv2D(\n",
        "            filters, kernel_size=3, strides=1, padding=\"same\", use_bias=False\n",
        "        )\n",
        "        self.bn2 = layers.BatchNormalization()\n",
        "\n",
        "        if strides > 1:\n",
        "            self.downsample_conv = layers.Conv2D(\n",
        "                filters, kernel_size=1, strides=strides, padding=\"same\", use_bias=False\n",
        "            )\n",
        "            self.downsample_bn = layers.BatchNormalization()\n",
        "        else:\n",
        "            self.downsample_conv = None\n",
        "            self.downsample_bn = None\n",
        "\n",
        "    def call(self, inputs, training=None):\n",
        "        residual = inputs\n",
        "\n",
        "        x = self.conv1(inputs)\n",
        "        x = self.bn1(x, training=training)\n",
        "        x = self.relu(x)\n",
        "        x = self.conv2(x)\n",
        "        x = self.bn2(x, training=training)\n",
        "\n",
        "        if self.downsample_conv is not None:\n",
        "            residual = self.downsample_conv(inputs)\n",
        "            residual = self.downsample_bn(residual, training=training)\n",
        "\n",
        "        x = layers.add([x, residual])\n",
        "        x = self.relu(x)\n",
        "        return x\n",
        "\n"
      ],
      "metadata": {
        "id": "zhBS5rUTDJzQ"
      },
      "execution_count": null,
      "outputs": []
    },
    {
      "cell_type": "code",
      "source": [
        "# Load CIFAR-10 dataset\n",
        "(x_train, y_train), (x_test, y_test) = keras.datasets.cifar10.load_data()"
      ],
      "metadata": {
        "id": "_dPR9TAZD2ig"
      },
      "execution_count": null,
      "outputs": []
    },
    {
      "cell_type": "code",
      "source": [
        "# Normalize pixel values to be between 0 and 1\n",
        "x_train = x_train.astype(\"float32\") / 255\n",
        "x_test = x_test.astype(\"float32\") / 255\n",
        "\n",
        "# Convert labels to one-hot encoding\n",
        "num_classes = 10\n",
        "y_train = keras.utils.to_categorical(y_train, num_classes)\n",
        "y_test = keras.utils.to_categorical(y_test, num_classes)\n"
      ],
      "metadata": {
        "id": "E3GKtJZeD7ic"
      },
      "execution_count": null,
      "outputs": []
    },
    {
      "cell_type": "code",
      "source": [
        "# Define the CNN architecture with Residual blocks\n",
        "inputs = keras.Input(shape=(32, 32, 3))\n",
        "\n",
        "x = layers.Conv2D(filters=64, kernel_size=3, strides=1, padding=\"same\")(inputs)\n",
        "x = layers.BatchNormalization()(x)\n",
        "x = layers.Activation(\"relu\")(x)\n",
        "\n",
        "x = ResidualBlock(filters=64, strides=1)(x)\n",
        "x = ResidualBlock(filters=64, strides=1)(x)\n",
        "x = ResidualBlock(filters=64, strides=1)(x)\n",
        "\n",
        "x = ResidualBlock(filters=128, strides=2)(x)\n",
        "x = ResidualBlock(filters=128, strides=1)(x)\n",
        "x = ResidualBlock(filters=128, strides=1)(x)\n",
        "\n",
        "x = ResidualBlock(filters=256, strides=2)(x)\n",
        "x = ResidualBlock(filters=256, strides=1)(x)\n",
        "x = ResidualBlock(filters=256, strides=1)(x)\n",
        "\n",
        "x = layers.GlobalAveragePooling2D()(x)\n",
        "\n",
        "outputs = layers.Dense(num_classes, activation=\"softmax\")(x)\n",
        "\n",
        "model = keras.Model(inputs=inputs, outputs=outputs)\n",
        "\n"
      ],
      "metadata": {
        "id": "9Qdx_4LIEANy"
      },
      "execution_count": null,
      "outputs": []
    },
    {
      "cell_type": "code",
      "source": [
        "# Compile the model\n",
        "model.compile(loss=\"categorical_crossentropy\", optimizer=\"adam\", metrics=[\"accuracy\"])\n"
      ],
      "metadata": {
        "id": "Qch5x0A9EDb7"
      },
      "execution_count": null,
      "outputs": []
    },
    {
      "cell_type": "code",
      "source": [
        "# Train the model\n",
        "batch_size = 64\n",
        "epochs = 5\n",
        "model.fit(x_train, y_train, batch_size=batch_size, epochs=epochs, validation_split=0.1)"
      ],
      "metadata": {
        "colab": {
          "base_uri": "https://localhost:8080/"
        },
        "id": "_riazoL7e2uB",
        "outputId": "1658f3ab-acfe-4ee5-92c2-c256f009026a"
      },
      "execution_count": null,
      "outputs": [
        {
          "output_type": "stream",
          "name": "stdout",
          "text": [
            "Epoch 1/5\n",
            "704/704 [==============================] - 3486s 5s/step - loss: 1.3814 - accuracy: 0.5008 - val_loss: 1.8246 - val_accuracy: 0.4540\n",
            "Epoch 2/5\n",
            "704/704 [==============================] - 3315s 5s/step - loss: 0.9061 - accuracy: 0.6785 - val_loss: 1.2628 - val_accuracy: 0.6024\n",
            "Epoch 3/5\n",
            "704/704 [==============================] - 3352s 5s/step - loss: 0.6995 - accuracy: 0.7537 - val_loss: 0.9664 - val_accuracy: 0.6714\n",
            "Epoch 4/5\n",
            "704/704 [==============================] - 3368s 5s/step - loss: 0.5596 - accuracy: 0.8043 - val_loss: 0.9221 - val_accuracy: 0.7078\n",
            "Epoch 5/5\n",
            "704/704 [==============================] - 3395s 5s/step - loss: 0.4731 - accuracy: 0.8348 - val_loss: 0.7090 - val_accuracy: 0.7638\n"
          ]
        },
        {
          "output_type": "execute_result",
          "data": {
            "text/plain": [
              "<keras.callbacks.History at 0x7fb9811f29d0>"
            ]
          },
          "metadata": {},
          "execution_count": 9
        }
      ]
    },
    {
      "cell_type": "code",
      "source": [
        "# Evaluate the model on the test set\n",
        "result = model.evaluate(x_test, y_test, verbose=0)\n",
        "print(\"Test loss:\", result[0])\n",
        "print(\"Test accuracy:\", result[1])"
      ],
      "metadata": {
        "id": "9cZtgwUHRPAq",
        "colab": {
          "base_uri": "https://localhost:8080/"
        },
        "outputId": "df0b6018-5987-4367-eb52-a1cac17b3cb1"
      },
      "execution_count": null,
      "outputs": [
        {
          "output_type": "stream",
          "name": "stdout",
          "text": [
            "Test loss: 0.7418727278709412\n",
            "Test accuracy: 0.7533000111579895\n"
          ]
        }
      ]
    }
  ]
}