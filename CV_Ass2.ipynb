{
  "cells": [
    {
      "cell_type": "markdown",
      "metadata": {
        "id": "view-in-github",
        "colab_type": "text"
      },
      "source": [
        "<a href=\"https://colab.research.google.com/github/Shosh3sb/computer_vision_512/blob/main/CV_Ass2.ipynb\" target=\"_parent\"><img src=\"https://colab.research.google.com/assets/colab-badge.svg\" alt=\"Open In Colab\"/></a>"
      ]
    },
    {
      "cell_type": "code",
      "execution_count": null,
      "id": "c171acb5-55ee-49ac-a354-d761f847116b",
      "metadata": {
        "id": "c171acb5-55ee-49ac-a354-d761f847116b"
      },
      "outputs": [],
      "source": [
        "import cv2\n",
        "import numpy as np\n",
        "import matplotlib.pylab as plt\n",
        "import time\n",
        "from PIL import Image, ImageOps\n",
        "import matplotlib.pyplot as plt\n",
        "from scipy.ndimage import convolve"
      ]
    },
    {
      "cell_type": "markdown",
      "id": "fdda14e0-809c-475b-be10-17bade608168",
      "metadata": {
        "id": "fdda14e0-809c-475b-be10-17bade608168"
      },
      "source": [
        "# Read an image using openCV"
      ]
    },
    {
      "cell_type": "code",
      "execution_count": null,
      "id": "94b6ef9f-6ca6-493f-ab1e-894922de300d",
      "metadata": {
        "id": "94b6ef9f-6ca6-493f-ab1e-894922de300d"
      },
      "outputs": [],
      "source": [
        "c = cv2.imread('BB.jpg')"
      ]
    },
    {
      "cell_type": "code",
      "execution_count": null,
      "id": "4e6c5d9d-27bd-4689-aac3-3b96d7ed5024",
      "metadata": {
        "id": "4e6c5d9d-27bd-4689-aac3-3b96d7ed5024",
        "outputId": "ed59a0e7-bbd6-4a8d-f5d7-30e20128ec5e"
      },
      "outputs": [
        {
          "data": {
            "text/plain": [
              "(334, 500, 3)"
            ]
          },
          "execution_count": 22,
          "metadata": {},
          "output_type": "execute_result"
        }
      ],
      "source": [
        "c.shape"
      ]
    },
    {
      "cell_type": "markdown",
      "id": "5669efea-3fb8-482d-9eee-30b1dfb3d61d",
      "metadata": {
        "id": "5669efea-3fb8-482d-9eee-30b1dfb3d61d"
      },
      "source": [
        "# Display the image using openCV"
      ]
    },
    {
      "cell_type": "code",
      "execution_count": null,
      "id": "85f43e9b-712b-476a-8054-992b0022fd62",
      "metadata": {
        "id": "85f43e9b-712b-476a-8054-992b0022fd62"
      },
      "outputs": [],
      "source": [
        "cv2.imshow('orginal image', c)\n",
        "cv2.waitKey()\n",
        "cv2.destroyAllWindows()"
      ]
    },
    {
      "cell_type": "markdown",
      "id": "f726b3f2-738c-4e41-897c-3c18f581494c",
      "metadata": {
        "id": "f726b3f2-738c-4e41-897c-3c18f581494c"
      },
      "source": [
        "# Convert the image to gray"
      ]
    },
    {
      "cell_type": "code",
      "execution_count": null,
      "id": "6dce1e8b-be46-4985-9cdb-12a67e75ff73",
      "metadata": {
        "id": "6dce1e8b-be46-4985-9cdb-12a67e75ff73",
        "outputId": "af93db1e-adc9-4291-e25a-664450795cd4"
      },
      "outputs": [
        {
          "data": {
            "text/plain": [
              "(334, 500)"
            ]
          },
          "execution_count": 3,
          "metadata": {},
          "output_type": "execute_result"
        }
      ],
      "source": [
        "begin_time= time.time()\n",
        "img_gry =cv2.cvtColor(c, cv2.COLOR_BGR2GRAY)\n",
        "end_time= time.time()\n",
        "img_gry.shape"
      ]
    },
    {
      "cell_type": "code",
      "execution_count": null,
      "id": "7b216606-de75-4fc6-b3a9-1665bdb98734",
      "metadata": {
        "id": "7b216606-de75-4fc6-b3a9-1665bdb98734"
      },
      "outputs": [],
      "source": [
        "cv2.imshow('gray image',img_gry)\n",
        "cv2.waitKey()\n",
        "\n",
        "cv2.destroyAllWindows()"
      ]
    },
    {
      "cell_type": "markdown",
      "id": "1947f6a4-f8ba-4509-8204-7b76dc6567fd",
      "metadata": {
        "id": "1947f6a4-f8ba-4509-8204-7b76dc6567fd"
      },
      "source": [
        " 1. Smoothing the image by using filter2D with trackbar"
      ]
    },
    {
      "cell_type": "code",
      "execution_count": null,
      "id": "6d0a1d69-128c-43a5-bf81-79adefd445e6",
      "metadata": {
        "id": "6d0a1d69-128c-43a5-bf81-79adefd445e6"
      },
      "outputs": [],
      "source": [
        "Start_time = time.time()\n",
        "# Define the kernel for smoothing\n",
        "kernel = np.ones((3,3), np.float32)/25\n",
        "\n",
        "# Create a window to display the image\n",
        "cv2.namedWindow('Smoothing')\n",
        "\n",
        "# Create a function to update the image based on trackbar position\n",
        "def update_image(val):\n",
        "    # Smooth the image based on the trackbar position\n",
        "    smoothed = cv2.filter2D(img_gry, -1, kernel*(val+1))\n",
        "    cv2.imshow('Smoothing', smoothed)\n",
        "\n",
        "# Create a trackbar to control the smoothing level\n",
        "cv2.createTrackbar('Smoothing Level', 'Smoothing', 0, 20, update_image)\n",
        "\n",
        "# Show the original image\n",
        "cv2.imshow('Original', img_gry)\n",
        "End_time = time.time()\n",
        "\n",
        "# Wait for a key press and close the windows\n",
        "cv2.waitKey(0)\n",
        "cv2.destroyAllWindows()\n",
        "\n",
        "print(\"Excution time is :\",End_time - Start_time)"
      ]
    },
    {
      "cell_type": "code",
      "execution_count": null,
      "id": "f8ab7b56-e9e2-4763-87af-3f8785560203",
      "metadata": {
        "id": "f8ab7b56-e9e2-4763-87af-3f8785560203"
      },
      "outputs": [],
      "source": []
    },
    {
      "cell_type": "markdown",
      "id": "435deaff-4bba-46e0-8f99-b6fc2eec9030",
      "metadata": {
        "id": "435deaff-4bba-46e0-8f99-b6fc2eec9030"
      },
      "source": [
        " 2. Implement Convolution function and smooth the image"
      ]
    },
    {
      "cell_type": "code",
      "execution_count": null,
      "id": "d43c0f6a-6b01-48e7-8f6f-98b29daa54af",
      "metadata": {
        "id": "d43c0f6a-6b01-48e7-8f6f-98b29daa54af"
      },
      "outputs": [],
      "source": [
        "def plot_image(img_gry: np.array):\n",
        "    plt.figure(figsize=(6, 6))\n",
        "    plt.imshow(img_gry, cmap='gray');\n",
        "def plot_two_images(img1: np.array, img2: np.array):\n",
        "    _, ax = plt.subplots(1, 2, figsize=(6, 6))\n",
        "    ax[0].imshow(img1, cmap='gray')\n",
        "    ax[1].imshow(img2, cmap='gray');"
      ]
    },
    {
      "cell_type": "code",
      "execution_count": null,
      "id": "de42152c-be01-4cd7-b7ec-f1719223cd10",
      "metadata": {
        "id": "de42152c-be01-4cd7-b7ec-f1719223cd10"
      },
      "outputs": [],
      "source": [
        "#Declare filters for convolutions\n",
        "sharpen = np.array([\n",
        "    [0, -1, 0],\n",
        "    [-1, 5, -1],\n",
        "    [0, -1, 0]\n",
        "])\n",
        "\n",
        "blur = np.array([\n",
        "    [0.0625, 0.125, 0.0625],\n",
        "    [0.125,  0.25,  0.125],\n",
        "    [0.0625, 0.125, 0.0625]\n",
        "])\n",
        "\n",
        "outline = np.array([\n",
        "    [-1, -1, -1],\n",
        "    [-1,  8, -1],\n",
        "    [-1, -1, -1]\n",
        "])"
      ]
    },
    {
      "cell_type": "code",
      "execution_count": null,
      "id": "d2fbccf0-6aaa-4bf7-a5e9-cf946e13dadc",
      "metadata": {
        "id": "d2fbccf0-6aaa-4bf7-a5e9-cf946e13dadc"
      },
      "outputs": [],
      "source": [
        "#Implement convolution from scratch\n",
        "def t_size(img_size: int, kernel_size: int) -> int:\n",
        "    num_pixels = 0\n",
        "    start_time= time.time()\n",
        "    # From 0 up to img size (if img size = 224, then up to 223)\n",
        "    for i in range(img_size):\n",
        "        # Add the kernel size (let's say 3) to the current i\n",
        "        added = i + kernel_size\n",
        "        # It must be lower than the image size\n",
        "        if added <= img_size:\n",
        "            # Increment if so\n",
        "            num_pixels += 1\n",
        "    end_time=time.time()\n",
        "    print(\"Excution time\",end_time - start_time)\n",
        "    return num_pixels"
      ]
    },
    {
      "cell_type": "code",
      "execution_count": null,
      "id": "720a95a2-bd78-41eb-8fb0-6837ea914646",
      "metadata": {
        "id": "720a95a2-bd78-41eb-8fb0-6837ea914646",
        "outputId": "3106bbab-e8b5-4256-8094-3d746643e485"
      },
      "outputs": [
        {
          "name": "stdout",
          "output_type": "stream",
          "text": [
            "Excution time 0.0\n"
          ]
        },
        {
          "data": {
            "text/plain": [
              "273"
            ]
          },
          "execution_count": 7,
          "metadata": {},
          "output_type": "execute_result"
        }
      ],
      "source": [
        "t_size(img_size=275, kernel_size=3)"
      ]
    },
    {
      "cell_type": "code",
      "execution_count": null,
      "id": "2a1070a9-7fd4-45a2-94ef-1190e4a96f65",
      "metadata": {
        "id": "2a1070a9-7fd4-45a2-94ef-1190e4a96f65",
        "outputId": "710700d7-4b23-4553-c4d5-f2bb6a043ae0"
      },
      "outputs": [
        {
          "name": "stdout",
          "output_type": "stream",
          "text": [
            "Excution time 0.0\n"
          ]
        },
        {
          "data": {
            "text/plain": [
              "271"
            ]
          },
          "execution_count": 8,
          "metadata": {},
          "output_type": "execute_result"
        }
      ],
      "source": [
        "t_size(img_size=275, kernel_size=5)"
      ]
    },
    {
      "cell_type": "code",
      "execution_count": null,
      "id": "aa83660e-cc3e-4e2d-8cce-f29223a387b4",
      "metadata": {
        "id": "aa83660e-cc3e-4e2d-8cce-f29223a387b4",
        "outputId": "f4311b1c-19d9-4882-8123-75a3244d4e1f"
      },
      "outputs": [
        {
          "data": {
            "text/plain": [
              "array([[175, 175, 174],\n",
              "       [175, 175, 174],\n",
              "       [175, 175, 174]], dtype=uint8)"
            ]
          },
          "execution_count": 9,
          "metadata": {},
          "output_type": "execute_result"
        }
      ],
      "source": [
        "#extract the first 3x3 matrix from our image:\n",
        "subset = np.array(img_gry)[0:0+3, 0:0+3]\n",
        "subset"
      ]
    },
    {
      "cell_type": "code",
      "execution_count": null,
      "id": "58659d8a-1246-4490-ad65-f72217e2dbd8",
      "metadata": {
        "id": "58659d8a-1246-4490-ad65-f72217e2dbd8",
        "outputId": "208ecb43-c7d0-42d4-8f05-784fbcf9489c"
      },
      "outputs": [
        {
          "data": {
            "text/plain": [
              "array([[   0, -175,    0],\n",
              "       [-175,  875, -174],\n",
              "       [   0, -175,    0]])"
            ]
          },
          "execution_count": 10,
          "metadata": {},
          "output_type": "execute_result"
        }
      ],
      "source": [
        "#Do an element-wise multiplication between the image and the filter:\n",
        "np.multiply(subset, sharpen)"
      ]
    },
    {
      "cell_type": "code",
      "execution_count": null,
      "id": "9edf8d1b-d4a2-4e3a-ba14-995e7f48508f",
      "metadata": {
        "id": "9edf8d1b-d4a2-4e3a-ba14-995e7f48508f",
        "outputId": "7a4f97c1-aedd-4c88-a054-85b27f49d41a"
      },
      "outputs": [
        {
          "data": {
            "text/plain": [
              "array([[10.9375, 21.875 , 10.875 ],\n",
              "       [21.875 , 43.75  , 21.75  ],\n",
              "       [10.9375, 21.875 , 10.875 ]])"
            ]
          },
          "execution_count": 11,
          "metadata": {},
          "output_type": "execute_result"
        }
      ],
      "source": [
        "np.multiply(subset, blur)"
      ]
    },
    {
      "cell_type": "code",
      "execution_count": null,
      "id": "bcfae2f3-7042-4e0a-bbc1-dabe3dba1c22",
      "metadata": {
        "id": "bcfae2f3-7042-4e0a-bbc1-dabe3dba1c22",
        "outputId": "1a17cf3c-1f50-48c1-938e-9cc00bc3cb94"
      },
      "outputs": [
        {
          "data": {
            "text/plain": [
              "176"
            ]
          },
          "execution_count": 12,
          "metadata": {},
          "output_type": "execute_result"
        }
      ],
      "source": [
        "#Sum the elements in the matrix:\n",
        "np.sum(np.multiply(subset, sharpen))"
      ]
    },
    {
      "cell_type": "code",
      "execution_count": null,
      "id": "4cabc319-2f91-4bbf-9419-a1b72a36032c",
      "metadata": {
        "id": "4cabc319-2f91-4bbf-9419-a1b72a36032c",
        "outputId": "abdb6299-9830-4f3d-aa88-0c90fc73a6d4"
      },
      "outputs": [
        {
          "data": {
            "text/plain": [
              "174.75"
            ]
          },
          "execution_count": 13,
          "metadata": {},
          "output_type": "execute_result"
        }
      ],
      "source": [
        "np.sum(np.multiply(subset, blur))"
      ]
    },
    {
      "cell_type": "code",
      "execution_count": null,
      "id": "fc84c361-8530-4b3e-a5dd-c5b33f5d8bda",
      "metadata": {
        "id": "fc84c361-8530-4b3e-a5dd-c5b33f5d8bda"
      },
      "outputs": [],
      "source": [
        "def convolve(img_gry: np.array, kernel: np.array) -> np.array:\n",
        "    tgt_size = t_size(\n",
        "        img_size=img_gry.shape[0],\n",
        "        kernel_size=kernel.shape[0]\n",
        "    )\n",
        "    # To simplify things\n",
        "    k = kernel.shape[0]\n",
        "\n",
        "    # 2D array of zeros\n",
        "    convolved_img = np.zeros(shape=(tgt_size, tgt_size))\n",
        "\n",
        "    # Iterate over the rows\n",
        "    for i in range(tgt_size):\n",
        "        # Iterate over the columns\n",
        "        for j in range(tgt_size):\n",
        "            # img[i, j] = individual pixel value\n",
        "            # Get the current matrix\n",
        "            mat = img_gry[i:i+k, j:j+k]\n",
        "\n",
        "            # Apply the convolution - element-wise multiplication and summation of the result\n",
        "            # Store the result to i-th row and j-th column of our convolved_img array\n",
        "            convolved_img[i, j] = np.sum(np.multiply(mat, kernel))\n",
        "\n",
        "    return convolved_img"
      ]
    },
    {
      "cell_type": "code",
      "execution_count": null,
      "id": "f1203bae-e709-46e5-b1db-8e7d76601850",
      "metadata": {
        "id": "f1203bae-e709-46e5-b1db-8e7d76601850",
        "outputId": "fa40ffd5-6b5e-44de-bcaa-ee553d5334cd"
      },
      "outputs": [
        {
          "name": "stdout",
          "output_type": "stream",
          "text": [
            "Excution time 0.0\n"
          ]
        },
        {
          "data": {
            "text/plain": [
              "array([[176., 173., 173., ..., 182., 182., 182.],\n",
              "       [176., 173., 173., ..., 182., 182., 182.],\n",
              "       [176., 173., 173., ..., 182., 182., 182.],\n",
              "       ...,\n",
              "       [174., 173., 177., ..., 185., 185., 185.],\n",
              "       [174., 174., 172., ..., 185., 185., 185.],\n",
              "       [174., 174., 173., ..., 184., 185., 185.]])"
            ]
          },
          "execution_count": 15,
          "metadata": {},
          "output_type": "execute_result"
        }
      ],
      "source": [
        "#test, #Sharpening filter first:\n",
        "img_sharpened = convolve(img_gry=np.array(img_gry), kernel=sharpen)\n",
        "img_sharpened\n",
        ""
      ]
    },
    {
      "cell_type": "code",
      "execution_count": null,
      "id": "14f5a5c1-110b-4d8d-81f9-a32ea8bc784e",
      "metadata": {
        "id": "14f5a5c1-110b-4d8d-81f9-a32ea8bc784e"
      },
      "outputs": [],
      "source": [
        "#cv2.imshow('Smoothing image', img_sharpened)"
      ]
    },
    {
      "cell_type": "code",
      "execution_count": null,
      "id": "6daa4a4b-f76c-4695-83c1-2f8e0a8471d9",
      "metadata": {
        "id": "6daa4a4b-f76c-4695-83c1-2f8e0a8471d9",
        "outputId": "07815f8c-482d-4e02-d8cb-76288d2e1997"
      },
      "outputs": [
        {
          "data": {
            "image/png": "[encoded data removed]",
            "text/plain": [
              "<Figure size 600x600 with 2 Axes>"
            ]
          },
          "metadata": {},
          "output_type": "display_data"
        }
      ],
      "source": [
        "plot_two_images(\n",
        "    img1=img_gry,\n",
        "    img2=img_sharpened\n",
        ")"
      ]
    },
    {
      "cell_type": "code",
      "execution_count": null,
      "id": "f01c9146-3259-4dc4-956e-2bd5695af9cc",
      "metadata": {
        "id": "f01c9146-3259-4dc4-956e-2bd5695af9cc",
        "outputId": "dbfb9044-23e2-456f-df17-ab7890030bda"
      },
      "outputs": [
        {
          "data": {
            "image/png": "[encoded data removed]",
            "text/plain": [
              "<Figure size 600x600 with 2 Axes>"
            ]
          },
          "metadata": {},
          "output_type": "display_data"
        }
      ],
      "source": [
        "img_blurred = convolve(img_gry=np.array(img_gry), kernel=blur)\n",
        "plot_two_images(\n",
        "    img1=img_gry,\n",
        "    img2=img_blurred\n",
        ")"
      ]
    },
    {
      "cell_type": "code",
      "execution_count": null,
      "id": "b37d67ca-c994-44e0-9cb9-fd049d216c6a",
      "metadata": {
        "id": "b37d67ca-c994-44e0-9cb9-fd049d216c6a",
        "outputId": "bbbdfcc6-4f4f-42d1-e14d-6d31ebe872e9"
      },
      "outputs": [
        {
          "name": "stdout",
          "output_type": "stream",
          "text": [
            "Excution time 0.0\n"
          ]
        },
        {
          "data": {
            "image/png": "[encoded data removed]",
            "text/plain": [
              "<Figure size 600x600 with 2 Axes>"
            ]
          },
          "metadata": {},
          "output_type": "display_data"
        }
      ],
      "source": [
        "img_outlined = convolve(img_gry=np.array(img_gry), kernel=outline)\n",
        "plot_two_images(\n",
        "    img1=img_gry,\n",
        "    img2=img_outlined\n",
        ")"
      ]
    },
    {
      "cell_type": "code",
      "execution_count": null,
      "id": "e8e550b9-eb09-4d8a-9f6f-a9574db5dabc",
      "metadata": {
        "id": "e8e550b9-eb09-4d8a-9f6f-a9574db5dabc"
      },
      "outputs": [],
      "source": []
    },
    {
      "cell_type": "markdown",
      "id": "51fe055f-72a2-4518-9b2f-598cdcceea60",
      "metadata": {
        "id": "51fe055f-72a2-4518-9b2f-598cdcceea60"
      },
      "source": [
        " 3. Down sample the image by a factor of 2 with smoothing (before down_sampling) and show it"
      ]
    },
    {
      "cell_type": "markdown",
      "id": "0cc1313c-3f75-4c16-968d-91bf208a8aea",
      "metadata": {
        "id": "0cc1313c-3f75-4c16-968d-91bf208a8aea"
      },
      "source": [
        "`\n",
        "To downsample an image by a factor of 2 with smoothing, we can first apply a low-pass filter to the image to remove high-frequency components, then reduce the image size by a factor of 2 by selecting every other pixel in each dimension.\n",
        "    `"
      ]
    },
    {
      "cell_type": "code",
      "execution_count": null,
      "id": "116dcd87-dd8a-4911-a556-6055e0d08cc6",
      "metadata": {
        "id": "116dcd87-dd8a-4911-a556-6055e0d08cc6",
        "outputId": "3125acff-8e67-438d-f7dd-48c59058623d"
      },
      "outputs": [
        {
          "data": {
            "text/plain": [
              "-1"
            ]
          },
          "execution_count": 19,
          "metadata": {},
          "output_type": "execute_result"
        }
      ],
      "source": [
        "\n",
        "# apply a Gaussian blur to smooth the image\n",
        "img_smooth = cv2.GaussianBlur(img_gry, (5, 5), 0)\n",
        "\n",
        "# downsample the image by a factor of 2\n",
        "img_downsampled = img_smooth[::2, ::2]\n",
        "\n",
        "# show the original and downsampled images\n",
        "cv2.imshow('Original Image', img_gry)\n",
        "cv2.imshow('Downsampled Image', img_downsampled)\n",
        "cv2.waitKey(0)\n"
      ]
    },
    {
      "cell_type": "markdown",
      "id": "36cf48ed-4722-4236-9651-64d2d81b4c1b",
      "metadata": {
        "id": "36cf48ed-4722-4236-9651-64d2d81b4c1b"
      },
      "source": []
    },
    {
      "cell_type": "markdown",
      "id": "575a6ece-e3a8-4be6-9ade-e5b64eea113f",
      "metadata": {
        "id": "575a6ece-e3a8-4be6-9ade-e5b64eea113f"
      },
      "source": [
        "4 .up sample the image from the previous step by a factor of 2 with smoothing (after up-sampling) show the resulting image and the difference from the original image. When showing the difference , normalize difference values if necessary so that they are visible"
      ]
    },
    {
      "cell_type": "code",
      "execution_count": null,
      "id": "04569d1d-dbde-4402-9e49-6b017281f256",
      "metadata": {
        "id": "04569d1d-dbde-4402-9e49-6b017281f256",
        "outputId": "a08a4e67-02a6-47c1-8ca9-644894d24748"
      },
      "outputs": [
        {
          "data": {
            "text/plain": [
              "-1"
            ]
          },
          "execution_count": 20,
          "metadata": {},
          "output_type": "execute_result"
        }
      ],
      "source": [
        "# upscale the image by a factor of 2 using bicubic interpolation\n",
        "img_upscaled = cv2.resize(img_gry, None, fx=2, fy=2, interpolation=cv2.INTER_CUBIC)\n",
        "\n",
        "# apply a Gaussian blur to smooth the image\n",
        "img_smooth = cv2.GaussianBlur(img_upscaled, (5, 5), 0)\n",
        "\n",
        "# display the original, smoothed, and difference images\n",
        "cv2.imshow('Original Image', img_gry)\n",
        "cv2.imshow('Upscaled and Smoothed Image', img_smooth)\n",
        "cv2.waitKey(0)\n"
      ]
    },
    {
      "cell_type": "code",
      "execution_count": null,
      "id": "a1eeba4d-5338-413a-af8a-f004719de84e",
      "metadata": {
        "id": "a1eeba4d-5338-413a-af8a-f004719de84e"
      },
      "outputs": [],
      "source": []
    },
    {
      "cell_type": "markdown",
      "id": "9366cece-8a87-4e1f-b1a2-1897145976f4",
      "metadata": {
        "id": "9366cece-8a87-4e1f-b1a2-1897145976f4"
      },
      "source": [
        "5. compute the x and y derivatives of an image and display the resulting images. When displaying the derivative images, normalize the obtained values"
      ]
    },
    {
      "cell_type": "code",
      "execution_count": null,
      "id": "648ad0f0-d720-49e0-b4a5-6ef34c9f1f8f",
      "metadata": {
        "id": "648ad0f0-d720-49e0-b4a5-6ef34c9f1f8f",
        "outputId": "777b6855-ce58-4ca1-fca1-20d20ed41da9"
      },
      "outputs": [
        {
          "name": "stdout",
          "output_type": "stream",
          "text": [
            "Excution time 0.0\n",
            "Excution time 0.0\n"
          ]
        },
        {
          "data": {
            "text/plain": [
              "(-0.5, 331.5, 331.5, -0.5)"
            ]
          },
          "execution_count": 21,
          "metadata": {},
          "output_type": "execute_result"
        },
        {
          "data": {
            "image/png": "[encoded data removed]",
            "text/plain": [
              "<Figure size 640x480 with 3 Axes>"
            ]
          },
          "metadata": {},
          "output_type": "display_data"
        }
      ],
      "source": [
        "\n",
        "\n",
        "# Compute x-derivative\n",
        "x_kernel = np.array([[-1, 0, 1], [-2, 0, 2], [-1, 0, 1]])\n",
        "x_derivative = convolve(img_gry, x_kernel)\n",
        "x_derivative = x_derivative / np.max(np.abs(x_derivative))  # Normalize values\n",
        "\n",
        "# Compute y-derivative\n",
        "y_kernel = np.array([[-1, -2, -1], [0, 0, 0], [1, 2, 1]])\n",
        "y_derivative = convolve(img_gry, y_kernel)\n",
        "y_derivative = y_derivative / np.max(np.abs(y_derivative))  # Normalize values\n",
        "\n",
        "# sobel x gradiant method\n",
        "sobelX= cv2.Sobel(img_gry, cv2.CV_64F,1,0)\n",
        "sobelX= np.uint8(np.absolute(sobelX))\n",
        "\n",
        "# sobel Y gradiant method\n",
        "sobelY= cv2.Sobel(img_gry, cv2.CV_64F,0,1)\n",
        "sobelY= np.uint8(np.absolute(sobelY))\n",
        "\n",
        "# Display images\n",
        "plt.subplot(1, 5, 1)\n",
        "plt.imshow(img_gry, cmap=\"gray\")\n",
        "plt.title(\"Original \")\n",
        "plt.axis(\"off\")\n",
        "\n",
        "plt.subplot(1, 5, 3)\n",
        "plt.imshow(x_derivative, cmap=\"gray\")\n",
        "plt.title(\"X-Derivative\")\n",
        "plt.axis(\"off\")\n",
        "\n",
        "plt.subplot(1, 5, 5)\n",
        "plt.imshow(y_derivative, cmap=\"gray\")\n",
        "plt.title(\"Y-Derivative\")\n",
        "plt.axis(\"off\")\n",
        "\n"
      ]
    },
    {
      "cell_type": "code",
      "execution_count": null,
      "id": "4ed4903d-28a9-45ca-94da-5b2ac1ca0e11",
      "metadata": {
        "id": "4ed4903d-28a9-45ca-94da-5b2ac1ca0e11",
        "outputId": "f1364238-6e0a-419c-ff70-68fcf81749c1"
      },
      "outputs": [
        {
          "data": {
            "image/png": "[encoded data removed]",
            "text/plain": [
              "<Figure size 640x480 with 1 Axes>"
            ]
          },
          "metadata": {},
          "output_type": "display_data"
        },
        {
          "data": {
            "image/png": "[encoded data removed]",
            "text/plain": [
              "<Figure size 640x480 with 1 Axes>"
            ]
          },
          "metadata": {},
          "output_type": "display_data"
        }
      ],
      "source": [
        "plt.subplot(1, 5, 4)\n",
        "plt.imshow(sobelX, cmap=\"gray\")\n",
        "plt.title(\"sobelX\")\n",
        "plt.axis(\"off\")\n",
        "plt.show()\n",
        "\n",
        "plt.subplot(1, 5, 5)\n",
        "plt.imshow(sobelY, cmap=\"gray\")\n",
        "plt.title(\"sobelY\")\n",
        "plt.axis(\"off\")\n",
        "plt.show()"
      ]
    },
    {
      "cell_type": "code",
      "execution_count": null,
      "id": "0ae7ea14-302a-4301-870c-529832d1da57",
      "metadata": {
        "id": "0ae7ea14-302a-4301-870c-529832d1da57"
      },
      "outputs": [],
      "source": []
    },
    {
      "cell_type": "markdown",
      "id": "37ebbb48-b871-470f-9836-9462de54fc86",
      "metadata": {
        "id": "37ebbb48-b871-470f-9836-9462de54fc86"
      },
      "source": [
        "6. compute the magnitude of the image gradient in the previous step, and display it. Normalize the diplayed values as needed"
      ]
    },
    {
      "cell_type": "code",
      "execution_count": null,
      "id": "0c509d0b-ec99-4293-b40e-32b3277e2cd5",
      "metadata": {
        "id": "0c509d0b-ec99-4293-b40e-32b3277e2cd5"
      },
      "outputs": [],
      "source": [
        "# Compute gradient magnitude0\n",
        "gradient_magnitude = np.sqrt(x_derivative ** 2 + y_derivative ** 2)\n",
        "gradient_magnitude = gradient_magnitude / np.max(gradient_magnitude)  # Normalize values\n",
        "\n",
        "# Compute gradient magnitude from priveus step 1\n",
        "gradient_magnitude1 = np.sqrt(sobelX ** 2 + sobelY ** 2)\n",
        "gradient_magnitude1 = gradient_magnitude1 / np.max(gradient_magnitude1)  # Normalize values\n",
        "\n",
        "# compute magnitude anther way. 2\n",
        "im = cv2.addWeighted(sobelX, 0.5, sobelY, 0.5, 0)\n"
      ]
    },
    {
      "cell_type": "code",
      "execution_count": null,
      "id": "adb977fd-50ed-4f75-bd87-ad282f9d5703",
      "metadata": {
        "id": "adb977fd-50ed-4f75-bd87-ad282f9d5703",
        "outputId": "96e07478-85af-4295-a2fa-8e1d7c5e2263"
      },
      "outputs": [
        {
          "data": {
            "image/png": "[encoded data removed]",
            "text/plain": [
              "<Figure size 640x480 with 3 Axes>"
            ]
          },
          "metadata": {},
          "output_type": "display_data"
        }
      ],
      "source": [
        "plt.subplot(1, 6, 1)\n",
        "plt.imshow(gradient_magnitude, cmap=\"gray\")\n",
        "plt.title(\"  Magnitude 1\")\n",
        "plt.axis(\"off\")\n",
        "\n",
        "plt.subplot(1, 6, 3)\n",
        "plt.imshow(gradient_magnitude1, cmap=\"gray\")\n",
        "plt.title(\" Magnitude 2  \")\n",
        "plt.axis(\"off\")\n",
        "\n",
        "plt.subplot(1, 6,5)\n",
        "plt.imshow(im, cmap=\"gray\")\n",
        "plt.title(\"  Magnitude 3 \")\n",
        "plt.axis(\"off\")\n",
        "plt.show()"
      ]
    },
    {
      "cell_type": "markdown",
      "id": "f299c103-4475-4aee-a590-c9b1621e38d3",
      "metadata": {
        "id": "f299c103-4475-4aee-a590-c9b1621e38d3"
      },
      "source": [
        "7. Plot the image gradient vectors on top of the original image every N pixel(e.g using short red lines segments of length K)and display the resulting image. Use track bar to control N."
      ]
    },
    {
      "cell_type": "code",
      "execution_count": null,
      "id": "24b2227d-d531-45d8-b1b2-ef410723306f",
      "metadata": {
        "id": "24b2227d-d531-45d8-b1b2-ef410723306f"
      },
      "outputs": [],
      "source": [
        "# Calculate the gradient in x and y directions\n",
        "grad_x = cv2.Sobel(img_gry, cv2.CV_32F, 1, 0, ksize=3)\n",
        "grad_y = cv2.Sobel(img_gry, cv2.CV_32F, 0, 1, ksize=3)\n",
        "\n",
        "# Convert the gradients to polar coordinates (magnitude and angle)\n",
        "magnitude, angle = cv2.cartToPolar(grad_x, grad_y)\n",
        "\n",
        "# Normalize the magnitude to [0, 1] range\n",
        "magnitude = cv2.normalize(magnitude, None, 0, 1, cv2.NORM_MINMAX)\n",
        "\n",
        "# Convert the angle from radians to degrees\n",
        "angle_degrees = np.rad2deg(angle)\n",
        "\n",
        "# Create a blank image to draw the gradient vectors\n",
        "h, w = img_gry.shape\n",
        "canvas = np.zeros((h, w, 3), dtype=np.uint8)\n",
        "canvas[..., 0] = img_gry\n",
        "canvas[..., 1] = img_gry\n",
        "canvas[..., 2] = img_gry\n",
        "\n",
        "# Define the length of the gradient vectors to be drawn\n",
        "vector_len = 40\n",
        "\n",
        "# Draw the gradient vectors on the canvas\n",
        "for y in range(0, h, 10):\n",
        "    for x in range(0, w, 10):\n",
        "        # Get the magnitude and angle of the gradient at this pixel\n",
        "        mag = magnitude[y, x]\n",
        "        angle = angle_degrees[y, x]\n",
        "\n",
        "        # Calculate the endpoint of the vector\n",
        "        dx = int(np.cos(np.deg2rad(angle)) * mag * vector_len)\n",
        "        dy = int(np.sin(np.deg2rad(angle)) * mag * vector_len)\n",
        "        pt2 = (x + dx, y + dy)\n",
        "\n",
        "        # Draw the vector on the canvas\n",
        "        cv2.arrowedLine(canvas, (x, y), pt2, (0, 0, 255), 1)\n",
        "\n",
        "# Display the image with gradient vectors\n",
        "cv2.imshow('Gradient Vectors', canvas)\n",
        "cv2.waitKey(0)\n",
        "cv2.destroyAllWindows()\n"
      ]
    },
    {
      "cell_type": "code",
      "execution_count": null,
      "id": "b5ad35ec-71df-4a04-b514-d2999e80c18a",
      "metadata": {
        "id": "b5ad35ec-71df-4a04-b514-d2999e80c18a"
      },
      "outputs": [],
      "source": [
        "import cv2\n",
        "import numpy as np\n",
        "\n",
        "def draw_vectors(img, n, k):\n",
        "    dx = cv2.Sobel(img, cv2.CV_64F, 1, 0, ksize=5)\n",
        "    dy = cv2.Sobel(img, cv2.CV_64F, 0, 1, ksize=5)\n",
        "    mag, ang = cv2.cartToPolar(dx, dy)\n",
        "\n",
        "    h, w = img.shape[:2]\n",
        "    for y in range(0, h, n):\n",
        "        for x in range(0, w, n):\n",
        "            angle = ang[y, x]\n",
        "            magnitude = mag[y, x]\n",
        "            if magnitude > 100:\n",
        "                x2 = int(x + magnitude * np.cos(angle))\n",
        "                y2 = int(y + magnitude * np.sin(angle))\n",
        "                cv2.line(img, (x, y), (x2, y2), (0, 0, 255), 2)\n",
        "\n",
        "    cv2.imshow(\"Image\", img)\n",
        "\n",
        "def on_trackbar(val):\n",
        "    if val == 0:\n",
        "        val = 1\n",
        "    draw_vectors(image.copy(), val, 3)\n",
        "\n",
        "# Load the image\n",
        "image = cv2.imread(\"BB.jpg\", cv2.IMREAD_GRAYSCALE)\n",
        "\n",
        "# Create a window and trackbar\n",
        "cv2.namedWindow(\"Image\")\n",
        "cv2.createTrackbar(\"N\", \"Image\", 1, 50, on_trackbar)\n",
        "\n",
        "# Show the image and wait for a key press\n",
        "cv2.imshow(\"Image\", image)\n",
        "cv2.waitKey(0)\n",
        "\n",
        "# Clean up\n",
        "cv2.destroyAllWindows()\n"
      ]
    },
    {
      "cell_type": "code",
      "execution_count": null,
      "id": "5d78a6a4-2959-48c2-a635-5c5d5056b9df",
      "metadata": {
        "id": "5d78a6a4-2959-48c2-a635-5c5d5056b9df"
      },
      "outputs": [],
      "source": []
    },
    {
      "cell_type": "markdown",
      "id": "9e456b2a-ef42-48b7-8c6b-37c7f88b06fc",
      "metadata": {
        "id": "9e456b2a-ef42-48b7-8c6b-37c7f88b06fc"
      },
      "source": [
        "8. Detect and display corners in an image using openCV Harris corner detection function (cornerHharris). Show the results using red dots. Use track bar to control the number of control point shown"
      ]
    },
    {
      "cell_type": "code",
      "execution_count": null,
      "id": "63312974-54b6-4852-be2f-62250db1c5d5",
      "metadata": {
        "id": "63312974-54b6-4852-be2f-62250db1c5d5"
      },
      "outputs": [],
      "source": [
        "# Set the maximum number of corner points to be shown\n",
        "max_points = 100\n",
        "\n",
        "# Load the image\n",
        "img = cv2.imread('RU.jpg')\n",
        "\n",
        "# Convert the image to grayscale\n",
        "gray = cv2.cvtColor(img, cv2.COLOR_BGR2GRAY)\n",
        "\n",
        "# Detect corner points using Harris corner detection\n",
        "dst = cv2.cornerHarris(gray, 2, 3, 0.04)\n",
        "dst = cv2.dilate(dst, None)\n",
        "\n",
        "# Normalize the corner response values to [0, 1]\n",
        "cv2.normalize(dst, dst, 0, 1, cv2.NORM_MINMAX)\n",
        "\n",
        "# Find the coordinates of the local maxima in the corner response map\n",
        "threshold = 0.01\n",
        "local_maxima = np.argwhere((dst > threshold) & (dst == cv2.dilate(dst, (3, 3))))\n",
        "\n",
        "# Sort the corner points in descending order based on their response value\n",
        "sorted_points = sorted(local_maxima, key=lambda x: dst[x[0], x[1]], reverse=True)\n",
        "\n",
        "# Initialize an empty list to store the selected corner points\n",
        "selected_points = []\n",
        "\n",
        "# Implement non-maximum suppression\n",
        "for point in sorted_points:\n",
        "    if len(selected_points) >= max_points:\n",
        "        break\n",
        "    for selected_point in selected_points:\n",
        "        if np.linalg.norm(point - selected_point) < 10:\n",
        "            break\n",
        "    else:\n",
        "        selected_points.append(point)\n",
        "\n",
        "# Create a track bar to control the number of corner points shown\n",
        "def update_points(val):\n",
        "    global selected_points, img\n",
        "    num_points = cv2.getTrackbarPos('Number of points', 'image')\n",
        "    img_copy = img.copy()\n",
        "    for point in selected_points[:num_points]:\n",
        "        cv2.circle(img_copy, tuple(point[::-1]), 5, (0, 0, 255), -1)\n",
        "    cv2.imshow('image', img_copy)\n",
        "\n",
        "cv2.namedWindow('image')\n",
        "cv2.createTrackbar('Number of points', 'image', 0, len(selected_points), update_points)\n",
        "\n",
        "# Display the image with the selected number of corner points\n",
        "update_points(0)\n",
        "cv2.waitKey(0)\n",
        "cv2.destroyAllWindows()\n"
      ]
    },
    {
      "cell_type": "markdown",
      "id": "8f749192-5c67-41b1-a43f-3cdc56e20a8d",
      "metadata": {
        "id": "8f749192-5c67-41b1-a43f-3cdc56e20a8d"
      },
      "source": [
        " 9. Scan the image with a window.At each window location , compute the correlation matrix and its eigen values. Multiply the eigenvalues you compute to get a \"cornerness\" measure. Display the \"corness\" measure making sure to normalize values as needed so that the measure is visible."
      ]
    },
    {
      "cell_type": "code",
      "execution_count": null,
      "id": "fe9e51b5-adf0-467d-bfe6-7dfb5bce358f",
      "metadata": {
        "id": "fe9e51b5-adf0-467d-bfe6-7dfb5bce358f"
      },
      "outputs": [],
      "source": [
        "\n",
        "\n",
        "def harris_corner_detection(image, window_size, k):\n",
        "    # Convert image to grayscale\n",
        "    gray = cv2.cvtColor(image, cv2.COLOR_BGR2GRAY)\n",
        "\n",
        "    # Compute derivatives of the image\n",
        "    dx = cv2.Sobel(gray, cv2.CV_64F, 1, 0, ksize=5)\n",
        "    dy = cv2.Sobel(gray, cv2.CV_64F, 0, 1, ksize=5)\n",
        "\n",
        "    # Compute the elements of the Harris matrix\n",
        "    Ixx = dx ** 2\n",
        "    Ixy = dx * dy\n",
        "    Iyy = dy ** 2\n",
        "\n",
        "    # Create a window for computing the correlation matrix\n",
        "    window = np.ones((window_size, window_size))\n",
        "\n",
        "    # Compute the sum of the elements of the Harris matrix in each window\n",
        "    Sxx = cv2.filter2D(Ixx, -1, window)\n",
        "    Sxy = cv2.filter2D(Ixy, -1, window)\n",
        "    Syy = cv2.filter2D(Iyy, -1, window)\n",
        "\n",
        "    # Compute the eigenvalues of the correlation matrix\n",
        "    det = (Sxx * Syy) - (Sxy ** 2)\n",
        "    trace = Sxx + Syy\n",
        "    lambda1 = (trace + np.sqrt(trace ** 2 - 4 * det)) / 2\n",
        "    lambda2 = (trace - np.sqrt(trace ** 2 - 4 * det)) / 2\n",
        "\n",
        "    # Compute the \"cornerness\" measure\n",
        "    cornerness = lambda1 * lambda2 - k * (lambda1 + lambda2) ** 2\n",
        "\n",
        "    # Normalize the \"cornerness\" measure\n",
        "    cv2.normalize(cornerness, cornerness, 0, 1500, cv2.NORM_MINMAX)\n",
        "    cornerness = cv2.convertScaleAbs(cornerness)\n",
        "\n",
        "    return cornerness\n",
        "\n",
        "# Load the image\n",
        "image = cv2.imread(\"BB.jpg\")\n",
        "\n",
        "# Compute the \"cornerness\" measure with a window size of 5 and k=0.04\n",
        "cornerness = harris_corner_detection(image, 5, 0.04)\n",
        "cv2.imshow(\"original\", image)\n",
        "# Display the \"cornerness\" measure\n",
        "cv2.imshow(\"Cornerness\", cornerness)\n",
        "cv2.waitKey(0)\n",
        "\n",
        "# Clean up\n",
        "cv2.destroyAllWindows()\n",
        "\n",
        "\n",
        "\n"
      ]
    },
    {
      "cell_type": "code",
      "execution_count": null,
      "id": "cd05b100-23a9-4127-ac25-14c37447b611",
      "metadata": {
        "id": "cd05b100-23a9-4127-ac25-14c37447b611"
      },
      "outputs": [],
      "source": []
    },
    {
      "cell_type": "markdown",
      "id": "3d6ae78d-49b8-4d85-8103-2d729a49209a",
      "metadata": {
        "id": "3d6ae78d-49b8-4d85-8103-2d729a49209a"
      },
      "source": [
        "10. Train a simple convolution network to perform MINIST digit classification and report the accuracy you recive on a validation set. Smooth the images (thus degrading them)train the network, evaluate results, and report accuracy. Repeat the smoothing several times (thus increasingly degrading the images and report the accuracy."
      ]
    },
    {
      "cell_type": "code",
      "execution_count": null,
      "id": "c7586008-b9f0-42a3-a842-32b44e2e3052",
      "metadata": {
        "id": "c7586008-b9f0-42a3-a842-32b44e2e3052"
      },
      "outputs": [],
      "source": [
        "from keras.datasets import mnist\n",
        "from keras.models import Sequential\n",
        "from keras.layers import Dense, Flatten\n",
        "from keras.utils import to_categorical\n"
      ]
    },
    {
      "cell_type": "code",
      "execution_count": null,
      "id": "1baf13d2-c320-4348-8eeb-b293189862bf",
      "metadata": {
        "id": "1baf13d2-c320-4348-8eeb-b293189862bf",
        "outputId": "60b3d2fd-f09e-472f-e2f2-f2aa0db75d30"
      },
      "outputs": [
        {
          "name": "stdout",
          "output_type": "stream",
          "text": [
            "Epoch 1/5\n",
            "469/469 [==============================] - 22s 45ms/step - loss: 0.3202 - accuracy: 0.9020 - val_loss: 0.0619 - val_accuracy: 0.9799\n",
            "Epoch 2/5\n",
            "469/469 [==============================] - 24s 50ms/step - loss: 0.0981 - accuracy: 0.9709 - val_loss: 0.0486 - val_accuracy: 0.9840\n",
            "Epoch 3/5\n",
            "469/469 [==============================] - 26s 54ms/step - loss: 0.0722 - accuracy: 0.9785 - val_loss: 0.0402 - val_accuracy: 0.9870\n",
            "Epoch 4/5\n",
            "469/469 [==============================] - 24s 51ms/step - loss: 0.0587 - accuracy: 0.9824 - val_loss: 0.0329 - val_accuracy: 0.9881\n",
            "Epoch 5/5\n",
            "469/469 [==============================] - 26s 55ms/step - loss: 0.0492 - accuracy: 0.9851 - val_loss: 0.0248 - val_accuracy: 0.9918\n",
            "313/313 [==============================] - 2s 5ms/step - loss: 0.0248 - accuracy: 0.9918\n",
            "Test loss: 0.02484176680445671\n",
            "Test accuracy: 0.9918000102043152\n"
          ]
        }
      ],
      "source": [
        "import tensorflow as tf\n",
        "from tensorflow.keras.datasets import mnist\n",
        "from tensorflow.keras.layers import Conv2D, Dense, Dropout, Flatten, MaxPooling2D\n",
        "from tensorflow.keras.models import Sequential\n",
        "from tensorflow.keras.utils import to_categorical\n",
        "\n",
        "# Load MNIST dataset\n",
        "(x_train, y_train), (x_test, y_test) = mnist.load_data()\n",
        "\n",
        "# Preprocess the data\n",
        "x_train = x_train.reshape((60000, 28, 28, 1))\n",
        "x_train = x_train / 255.0\n",
        "y_train = to_categorical(y_train)\n",
        "\n",
        "x_test = x_test.reshape((10000, 28, 28, 1))\n",
        "x_test = x_test / 255.0\n",
        "y_test = to_categorical(y_test)\n",
        "\n",
        "# Build the model\n",
        "model = Sequential([\n",
        "    Conv2D(32, (3, 3), activation='relu', input_shape=(28, 28, 1)),\n",
        "    MaxPooling2D((2, 2)),\n",
        "    Conv2D(64, (3, 3), activation='relu'),\n",
        "    MaxPooling2D((2, 2)),\n",
        "    Flatten(),\n",
        "    Dense(128, activation='relu'),\n",
        "    Dropout(0.5),\n",
        "    Dense(10, activation='softmax')\n",
        "])\n",
        "\n",
        "# Compile the model\n",
        "model.compile(optimizer='adam', loss='categorical_crossentropy', metrics=['accuracy'])\n",
        "\n",
        "# Train the model\n",
        "model.fit(x_train, y_train, epochs=5, batch_size=128, validation_data=(x_test, y_test))\n",
        "\n",
        "# Evaluate the model on the test set\n",
        "test_loss, test_accuracy = model.evaluate(x_test, y_test)\n",
        "print('Test loss:', test_loss)\n",
        "print('Test accuracy:', test_accuracy)"
      ]
    },
    {
      "cell_type": "code",
      "execution_count": null,
      "id": "58a67914-63df-4ac2-adba-89fa95d9d458",
      "metadata": {
        "id": "58a67914-63df-4ac2-adba-89fa95d9d458",
        "outputId": "1d481554-ffb4-491a-b49e-b8e403c3abce"
      },
      "outputs": [
        {
          "name": "stdout",
          "output_type": "stream",
          "text": [
            "Epoch 1/5\n",
            "469/469 [==============================] - 21s 45ms/step - loss: 2.3012 - accuracy: 0.1124 - val_loss: 2.3010 - val_accuracy: 0.1135\n",
            "Epoch 2/5\n",
            "469/469 [==============================] - 23s 49ms/step - loss: 2.3013 - accuracy: 0.1124 - val_loss: 2.3010 - val_accuracy: 0.1135\n",
            "Epoch 3/5\n",
            "469/469 [==============================] - 23s 50ms/step - loss: 2.3013 - accuracy: 0.1124 - val_loss: 2.3011 - val_accuracy: 0.1135\n",
            "Epoch 4/5\n",
            "469/469 [==============================] - 24s 52ms/step - loss: 2.3013 - accuracy: 0.1124 - val_loss: 2.3010 - val_accuracy: 0.1135\n",
            "Epoch 5/5\n",
            "469/469 [==============================] - 29s 62ms/step - loss: 2.3013 - accuracy: 0.1124 - val_loss: 2.3010 - val_accuracy: 0.1135\n",
            "313/313 [==============================] - 2s 6ms/step - loss: 2.3010 - accuracy: 0.1135\n",
            "Test loss: 2.300978899002075\n",
            "Test accuracy: 0.11349999904632568\n"
          ]
        }
      ],
      "source": [
        "# Preprocess the data with image smoothing\n",
        "x_train_smooth = []\n",
        "for img in x_train:\n",
        "    img = cv2.GaussianBlur(img, (3, 3), 0)\n",
        "    x_train_smooth.append(img)\n",
        "x_train_smooth = np.array(x_train_smooth).reshape((60000, 28, 28, 1))\n",
        "x_train_smooth = x_train_smooth / 255.0\n",
        "\n",
        "x_test_smooth = []\n",
        "for img in x_test:\n",
        "    img = cv2.GaussianBlur(img, (3, 3), 0)\n",
        "    x_test_smooth.append(img)\n",
        "x_test_smooth = np.array(x_test_smooth).reshape((10000, 28, 28, 1))\n",
        "x_test_smooth = x_test_smooth / 255.0\n",
        "\n",
        "# Train the model with smoothed images\n",
        "model.fit(x_train_smooth, y_train, epochs=5, batch_size=128, validation_data=(x_test_smooth, y_test))\n",
        "\n",
        "# Evaluate the model on the test set\n",
        "test_loss, test_accuracy = model.evaluate(x_test_smooth, y_test)\n",
        "print('Test loss:', test_loss)\n",
        "print('Test accuracy:', test_accuracy)"
      ]
    },
    {
      "cell_type": "code",
      "execution_count": null,
      "id": "5c589ab0-4dbb-431e-92fb-3809247a0987",
      "metadata": {
        "id": "5c589ab0-4dbb-431e-92fb-3809247a0987"
      },
      "outputs": [],
      "source": []
    },
    {
      "cell_type": "markdown",
      "id": "e7497f4f-b6cd-4222-a7e8-c6b3c5e320bf",
      "metadata": {
        "id": "e7497f4f-b6cd-4222-a7e8-c6b3c5e320bf"
      },
      "source": [
        "11. Repeat the previous step, except that now you compute the magnitude of image gradients before feeding them into the network."
      ]
    },
    {
      "cell_type": "code",
      "execution_count": null,
      "id": "8793da89-0853-473a-951b-b5a1c2fd900f",
      "metadata": {
        "id": "8793da89-0853-473a-951b-b5a1c2fd900f",
        "outputId": "9be553bb-97b3-432c-aa5c-bf3eb163b25c"
      },
      "outputs": [
        {
          "name": "stdout",
          "output_type": "stream",
          "text": [
            "Epoch 1/5\n",
            "469/469 [==============================] - 22s 44ms/step - loss: 0.2906 - accuracy: 0.9117 - val_loss: 0.0562 - val_accuracy: 0.9821\n",
            "Epoch 2/5\n",
            "469/469 [==============================] - 22s 47ms/step - loss: 0.0901 - accuracy: 0.9736 - val_loss: 0.0390 - val_accuracy: 0.9867\n",
            "Epoch 3/5\n",
            "469/469 [==============================] - 23s 48ms/step - loss: 0.0668 - accuracy: 0.9808 - val_loss: 0.0360 - val_accuracy: 0.9875\n",
            "Epoch 4/5\n",
            "469/469 [==============================] - 23s 48ms/step - loss: 0.0558 - accuracy: 0.9830 - val_loss: 0.0288 - val_accuracy: 0.9897\n",
            "Epoch 5/5\n",
            "469/469 [==============================] - 22s 48ms/step - loss: 0.0467 - accuracy: 0.9858 - val_loss: 0.0256 - val_accuracy: 0.9920\n",
            "313/313 [==============================] - 2s 5ms/step - loss: 0.0256 - accuracy: 0.9920\n",
            "Test loss: 0.025645822286605835\n",
            "Test accuracy: 0.9919999837875366\n"
          ]
        }
      ],
      "source": [
        "import tensorflow as tf\n",
        "from tensorflow.keras.datasets import mnist\n",
        "from tensorflow.keras.layers import Conv2D, Dense, Dropout, Flatten, MaxPooling2D\n",
        "from tensorflow.keras.models import Sequential\n",
        "from tensorflow.keras.utils import to_categorical\n",
        "\n",
        "# Load MNIST dataset\n",
        "(x_train, y_train), (x_test, y_test) = mnist.load_data()\n",
        "\n",
        "# Preprocess the data\n",
        "x_train = x_train.reshape((60000, 28, 28, 1))\n",
        "x_train = x_train / 255.0\n",
        "y_train = to_categorical(y_train)\n",
        "\n",
        "x_test = x_test.reshape((10000, 28, 28, 1))\n",
        "x_test = x_test / 255.0\n",
        "y_test = to_categorical(y_test)\n",
        "\n",
        "# Build the model\n",
        "model = Sequential([\n",
        "    Conv2D(32, (3, 3), activation='relu', input_shape=(28, 28, 1)),\n",
        "    MaxPooling2D((2, 2)),\n",
        "    Conv2D(64, (3, 3), activation='relu'),\n",
        "    MaxPooling2D((2, 2)),\n",
        "    Flatten(),\n",
        "    Dense(128, activation='relu'),\n",
        "    Dropout(0.5),\n",
        "    Dense(10, activation='softmax')\n",
        "])\n",
        "\n",
        "# Compile the model\n",
        "model.compile(optimizer='adam', loss='categorical_crossentropy', metrics=['accuracy'])\n",
        "\n",
        "# Train the model\n",
        "model.fit(x_train, y_train, epochs=5, batch_size=128, validation_data=(x_test, y_test))\n",
        "# Evaluate the model on the test set\n",
        "test_loss, test_accuracy = model.evaluate(x_test, y_test)\n",
        "print('Test loss:', test_loss)\n",
        "print('Test accuracy:', test_accuracy)"
      ]
    },
    {
      "cell_type": "code",
      "execution_count": null,
      "id": "03fecfa6-746c-4b7b-a428-716776aa788a",
      "metadata": {
        "id": "03fecfa6-746c-4b7b-a428-716776aa788a",
        "outputId": "692f0a55-8794-400a-980f-b971025d6d22"
      },
      "outputs": [
        {
          "name": "stdout",
          "output_type": "stream",
          "text": [
            "Epoch 1/5\n",
            "469/469 [==============================] - 22s 47ms/step - loss: 2.3013 - accuracy: 0.1124 - val_loss: 2.3010 - val_accuracy: 0.1135\n",
            "Epoch 2/5\n",
            "469/469 [==============================] - 28s 60ms/step - loss: 2.3012 - accuracy: 0.1124 - val_loss: 2.3010 - val_accuracy: 0.1135\n",
            "Epoch 3/5\n",
            "469/469 [==============================] - 30s 63ms/step - loss: 2.3013 - accuracy: 0.1124 - val_loss: 2.3010 - val_accuracy: 0.1135\n",
            "Epoch 4/5\n",
            "469/469 [==============================] - 24s 51ms/step - loss: 2.3013 - accuracy: 0.1124 - val_loss: 2.3011 - val_accuracy: 0.1135\n",
            "Epoch 5/5\n",
            "469/469 [==============================] - 26s 55ms/step - loss: 2.3013 - accuracy: 0.1124 - val_loss: 2.3010 - val_accuracy: 0.1135\n",
            "313/313 [==============================] - 2s 6ms/step - loss: 2.3010 - accuracy: 0.1135\n",
            "Test loss: 2.301032543182373\n",
            "Test accuracy: 0.11349999904632568\n"
          ]
        }
      ],
      "source": [
        "# Preprocess the data with image smoothing\n",
        "x_train_mag = []\n",
        "for img in x_train:\n",
        "    # sobel X gradiant method\n",
        "    sobelX= cv2.Sobel(img, cv2.CV_64F,1,0)\n",
        "    sobelX= np.uint8(np.absolute(sobelX))\n",
        "    # sobel Y gradiant method\n",
        "    sobelY= cv2.Sobel(img, cv2.CV_64F,0,1)\n",
        "    sobelY= np.uint8(np.absolute(sobelY))\n",
        "    img= cv2.addWeighted(sobelX, 0.5, sobelY, 0.5, 0)\n",
        "    x_train_mag.append(img)\n",
        "x_train_mag = np.array(x_train_mag).reshape((60000, 28, 28, 1))\n",
        "x_train_mag = x_train_mag / 255.0\n",
        "\n",
        "x_test_mag = []\n",
        "for img in x_test:\n",
        "    # sobel x gradiant method\n",
        "    sobelX= cv2.Sobel(img, cv2.CV_64F,1,0)\n",
        "    sobelX= np.uint8(np.absolute(sobelX))\n",
        "    # sobel Y gradiant method\n",
        "    sobelY= cv2.Sobel(img, cv2.CV_64F,0,1)\n",
        "    sobelY= np.uint8(np.absolute(sobelY))\n",
        "    img= cv2.addWeighted(sobelX, 0.5, sobelY, 0.5, 0)\n",
        "    x_test_mag.append(img)\n",
        "x_test_mag = np.array(x_test_mag).reshape((10000, 28, 28, 1))\n",
        "x_test_mag = x_test_mag / 255.0\n",
        "\n",
        "# Train the model\n",
        "model.fit(x_train_mag, y_train, epochs=5, batch_size=128, validation_data=(x_test_mag, y_test))\n",
        "\n",
        "\n",
        "# Evaluate the model on the test set\n",
        "test_loss, test_accuracy = model.evaluate(x_test_mag, y_test)\n",
        "print('Test loss:', test_loss)\n",
        "print('Test accuracy:', test_accuracy)\n",
        "\n"
      ]
    },
    {
      "cell_type": "code",
      "execution_count": null,
      "id": "4fa4b5e3-b2fd-4af8-b50b-ccf4566d8874",
      "metadata": {
        "id": "4fa4b5e3-b2fd-4af8-b50b-ccf4566d8874"
      },
      "outputs": [],
      "source": []
    }
  ],
  "metadata": {
    "kernelspec": {
      "display_name": "Python 3 (ipykernel)",
      "language": "python",
      "name": "python3"
    },
    "language_info": {
      "codemirror_mode": {
        "name": "ipython",
        "version": 3
      },
      "file_extension": ".py",
      "mimetype": "text/x-python",
      "name": "python",
      "nbconvert_exporter": "python",
      "pygments_lexer": "ipython3",
      "version": "3.9.7"
    },
    "colab": {
      "provenance": [],
      "include_colab_link": true
    }
  },
  "nbformat": 4,
  "nbformat_minor": 5
}